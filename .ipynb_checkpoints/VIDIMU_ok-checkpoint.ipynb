{
 "cells": [
  {
   "cell_type": "markdown",
   "metadata": {
    "collapsed": false
   },
   "source": [
    "# Propuesta de experimento\n",
    "Creamos un dataset que aglutina toda la información de los ficheros .csv correspondientes a los movimientos de las actividades de todos los sujetos.\n",
    "Para ello se leen los archivos y se genera el dataset, añadiendo la etiqueta que le corresponde a cada grupo de coordenadas de las distintas articulaciones/huesos.\n",
    "A partir de aquí, se crean las particiones correspondientes a los conjuntos de train, test y validation que se usarán para entrenar y evaluar la red neuronal a diseñar\n",
    "para realizar la tarea de clasificación solicitada."
   ]
  },
  {
   "cell_type": "markdown",
   "metadata": {},
   "source": [
    "## 1º - Importación de librerias a utilizar"
   ]
  },
  {
   "cell_type": "code",
   "execution_count": 1,
   "metadata": {
    "collapsed": true
   },
   "outputs": [
    {
     "name": "stderr",
     "output_type": "stream",
     "text": [
      "2023-08-16 18:24:31.501141: I tensorflow/core/platform/cpu_feature_guard.cc:193] This TensorFlow binary is optimized with oneAPI Deep Neural Network Library (oneDNN) to use the following CPU instructions in performance-critical operations:  AVX2 FMA\n",
      "To enable them in other operations, rebuild TensorFlow with the appropriate compiler flags.\n"
     ]
    }
   ],
   "source": [
    "import csv\n",
    "import pandas as pd\n",
    "import numpy as np\n",
    "import tensorflow as tf"
   ]
  },
  {
   "cell_type": "code",
   "execution_count": 2,
   "metadata": {
    "collapsed": false
   },
   "outputs": [],
   "source": [
    "import pathlib\n",
    "from pathlib import Path\n",
    "import glob\n",
    "import matplotlib.pyplot as plt\n",
    "import seaborn as sns\n",
    "import os"
   ]
  },
  {
   "cell_type": "code",
   "execution_count": 3,
   "metadata": {},
   "outputs": [],
   "source": [
    "from sklearn.model_selection import train_test_split\n",
    "from tensorflow.keras.utils import to_categorical"
   ]
  },
  {
   "cell_type": "markdown",
   "metadata": {},
   "source": [
    "## 2º - Proceso de carga de datos y EDA básico"
   ]
  },
  {
   "cell_type": "code",
   "execution_count": 4,
   "metadata": {},
   "outputs": [],
   "source": [
    "data_path=\"/Users/jordi/Desktop/FORMACION/CODE/phdUVa/videoandimus\"\n",
    "activities=['A01','A02','A03','A04','A05','A06','A07','A08','A09','A10','A11','A12','A13']\n",
    "subjects=['S40','S41','S42','S44','S46','S47','S48','S49','S50','S51','S52','S53','S54','S55','S56','S57']\n",
    "data =[]"
   ]
  },
  {
   "cell_type": "code",
   "execution_count": 5,
   "metadata": {},
   "outputs": [],
   "source": [
    "for activity in activities:\n",
    "    # for subject in os.listdir(data_path):\n",
    "    for subject in subjects:\n",
    "        if subject.startswith('S'):\n",
    "            for filename in os.listdir(os.path.join(data_path, subject)):\n",
    "                if filename.startswith(subject + '_'+ activity) and (filename.endswith('_T01.csv') or filename.endswith('_T02.csv')):\n",
    "                    filepath = os.path.join(data_path, subject, filename)\n",
    "                    # print(filepath)\n",
    "                    df = pd.read_csv(filepath, header=0)\n",
    "                    df['activity'] = activity\n",
    "                    data.append(df)\n",
    "dataset = pd.concat(data,ignore_index=True)"
   ]
  },
  {
   "cell_type": "code",
   "execution_count": 6,
   "metadata": {},
   "outputs": [
    {
     "name": "stdout",
     "output_type": "stream",
     "text": [
      "['A01' 'A02' 'A03' 'A04' 'A05' 'A06' 'A07' 'A08' 'A09' 'A10' 'A11' 'A12'\n",
      " 'A13']\n"
     ]
    }
   ],
   "source": [
    "print(dataset['activity'].unique())"
   ]
  },
  {
   "cell_type": "code",
   "execution_count": 7,
   "metadata": {},
   "outputs": [
    {
     "name": "stdout",
     "output_type": "stream",
     "text": [
      "<class 'pandas.core.frame.DataFrame'>\n",
      "RangeIndex: 172456 entries, 0 to 172455\n",
      "Columns: 103 entries, pelvis_x to activity\n",
      "dtypes: float64(102), object(1)\n",
      "memory usage: 135.5+ MB\n",
      "None\n"
     ]
    }
   ],
   "source": [
    "print(dataset.info())"
   ]
  },
  {
   "cell_type": "code",
   "execution_count": 8,
   "metadata": {},
   "outputs": [
    {
     "name": "stdout",
     "output_type": "stream",
     "text": [
      "pelvis_x              float64\n",
      "pelvis_y              float64\n",
      "pelvis_z              float64\n",
      "left_hip_x            float64\n",
      "left_hip_y            float64\n",
      "                       ...   \n",
      "left_thumb_tip_z      float64\n",
      " right_thumb_tip_x    float64\n",
      " right_thumb_tip_y    float64\n",
      " right_thumb_tip_z    float64\n",
      "activity               object\n",
      "Length: 103, dtype: object\n"
     ]
    }
   ],
   "source": [
    "print(dataset.dtypes)"
   ]
  },
  {
   "cell_type": "code",
   "execution_count": 9,
   "metadata": {},
   "outputs": [
    {
     "name": "stdout",
     "output_type": "stream",
     "text": [
      "(172456, 103)\n",
      "activity\n",
      "A01    19082\n",
      "A02    24372\n",
      "A03    19936\n",
      "A04    11827\n",
      "A05    13298\n",
      "A06    11358\n",
      "A07    12778\n",
      "A08    12493\n",
      "A09    13637\n",
      "A10     9045\n",
      "A11     8757\n",
      "A12     9073\n",
      "A13     6800\n",
      "dtype: int64\n"
     ]
    }
   ],
   "source": [
    "# Distribución de las muestras por actividad\n",
    "print(dataset.shape)\n",
    "print(dataset.groupby('activity').size())  "
   ]
  },
  {
   "cell_type": "code",
   "execution_count": 10,
   "metadata": {},
   "outputs": [
    {
     "name": "stdout",
     "output_type": "stream",
     "text": [
      "Empty DataFrame\n",
      "Columns: []\n",
      "Index: []\n"
     ]
    }
   ],
   "source": [
    "# Búsqueda de valores nulos en el dataset\n",
    "null_cols = dataset.columns[dataset.isnull().any()]\n",
    "dataset[null_cols].isnull().sum()\n",
    "print(dataset[dataset.isnull().any(axis=1)][null_cols].head())"
   ]
  },
  {
   "cell_type": "markdown",
   "metadata": {},
   "source": [
    "## 3º - Preparación del dataset para la partición de datos"
   ]
  },
  {
   "cell_type": "markdown",
   "metadata": {},
   "source": [
    "Generación de la partición X, y"
   ]
  },
  {
   "cell_type": "markdown",
   "metadata": {},
   "source": [
    "Preprocesado de los datos "
   ]
  },
  {
   "cell_type": "code",
   "execution_count": 11,
   "metadata": {},
   "outputs": [],
   "source": [
    "X=dataset.drop(columns=['activity']) # carga los valores de las muestras para todo el dataset\n",
    "y=dataset['activity'] # carga las etiquetas de las muestras para todo el dataset"
   ]
  },
  {
   "cell_type": "code",
   "execution_count": 12,
   "metadata": {},
   "outputs": [
    {
     "name": "stdout",
     "output_type": "stream",
     "text": [
      "(172456, 102)\n",
      "(172456,)\n"
     ]
    }
   ],
   "source": [
    "print(X.shape)\n",
    "print(y.shape)"
   ]
  },
  {
   "cell_type": "markdown",
   "metadata": {},
   "source": [
    "Conversión a numpy array"
   ]
  },
  {
   "cell_type": "code",
   "execution_count": 13,
   "metadata": {},
   "outputs": [],
   "source": [
    "X= np.array(X) # convierte la lista a un array de numpy\n",
    "y= np.array(y) # convierte las etiquetas a un array de numpy"
   ]
  },
  {
   "cell_type": "markdown",
   "metadata": {},
   "source": [
    "Función para recodificación de etiquetas"
   ]
  },
  {
   "cell_type": "code",
   "execution_count": 14,
   "metadata": {},
   "outputs": [],
   "source": [
    "def labelAssign(textLabel):\n",
    "    if textLabel == 'A01':\n",
    "        return 0\n",
    "    elif textLabel == 'A02':\n",
    "        return 1\n",
    "    elif textLabel == 'A03':\n",
    "        return 2\n",
    "    elif textLabel == 'A04':\n",
    "        return 3\n",
    "    elif textLabel == 'A05':\n",
    "        return 4\n",
    "    elif textLabel == 'A06':\n",
    "        return 5\n",
    "    elif textLabel == 'A07':\n",
    "        return 6\n",
    "    elif textLabel == 'A08':\n",
    "        return 7\n",
    "    elif textLabel == 'A09':\n",
    "        return 8\n",
    "    elif textLabel == 'A10':\n",
    "        return 9\n",
    "    elif textLabel == 'A11':\n",
    "        return 10\n",
    "    elif textLabel == 'A12':\n",
    "        return 11\n",
    "    elif textLabel == 'A13':\n",
    "        return 12"
   ]
  },
  {
   "cell_type": "code",
   "execution_count": 15,
   "metadata": {},
   "outputs": [],
   "source": [
    "y_new=[]\n",
    "for i in range(len(y)):\n",
    "    y_new.append(labelAssign(y[i]))\n"
   ]
  },
  {
   "cell_type": "code",
   "execution_count": 16,
   "metadata": {},
   "outputs": [
    {
     "name": "stdout",
     "output_type": "stream",
     "text": [
      "(172456,)\n"
     ]
    }
   ],
   "source": [
    "y_new=np.array(y_new)\n",
    "print(y_new.shape)"
   ]
  },
  {
   "cell_type": "markdown",
   "metadata": {},
   "source": [
    "### División del DataFrame en TRAIN, TEST Y VALIDATION"
   ]
  },
  {
   "cell_type": "code",
   "execution_count": 17,
   "metadata": {},
   "outputs": [],
   "source": [
    "validation = 0.15 / (0.25 + 0.15)\n",
    "X_train, X_test, y_train, y_test = train_test_split(X, y_new, train_size=0.7)\n",
    "X_val, X_test, y_val, y_test = train_test_split(X_test, y_test, train_size=validation)"
   ]
  },
  {
   "cell_type": "code",
   "execution_count": 18,
   "metadata": {},
   "outputs": [],
   "source": [
    "X_train, X_test = X_train/255.0, X_test/255.0 # Normalization\n",
    "y_train = to_categorical(y_train, num_classes=13) # One-hot encoding\n",
    "y_test = to_categorical(y_test, num_classes=13) # One-hot encoding\n",
    "y_val=to_categorical(y_val, num_classes=13) # One-hot encoding"
   ]
  },
  {
   "cell_type": "code",
   "execution_count": 19,
   "metadata": {},
   "outputs": [
    {
     "name": "stdout",
     "output_type": "stream",
     "text": [
      "El conjunto TRAIN tiene  120719  muestras y  102  variables\n",
      "El conjunto TEST tiene  32336  muestras y  102  variables\n",
      "El conjunto VALIDATION tiene  19401  muestras y  102  variables\n"
     ]
    }
   ],
   "source": [
    "print ('El conjunto TRAIN tiene ',X_train.shape[0], ' muestras y ',X_train.shape[1],' variables')\n",
    "print ('El conjunto TEST tiene ',X_test.shape[0],' muestras y ',X_test.shape[1],' variables')\n",
    "print ('El conjunto VALIDATION tiene ',X_val.shape[0],' muestras y ',X_val.shape[1],' variables')"
   ]
  },
  {
   "cell_type": "code",
   "execution_count": 20,
   "metadata": {},
   "outputs": [
    {
     "name": "stdout",
     "output_type": "stream",
     "text": [
      "(120719, 13)\n",
      "(32336, 13)\n",
      "(19401, 13)\n"
     ]
    }
   ],
   "source": [
    "print(y_train.shape)\n",
    "print(y_test.shape)\n",
    "print(y_val.shape)"
   ]
  },
  {
   "cell_type": "markdown",
   "metadata": {},
   "source": [
    "## 4º - Construcción, entrenamiento y evaluación del clasificador Red Neuronal"
   ]
  },
  {
   "cell_type": "markdown",
   "metadata": {},
   "source": [
    "### Importamos librerías para la construcción de la Red Neuronal"
   ]
  },
  {
   "cell_type": "code",
   "execution_count": 21,
   "metadata": {},
   "outputs": [],
   "source": [
    "from tensorflow.keras.models import Sequential\n",
    "from tensorflow.keras.layers import Dense, InputLayer, Dropout, Activation, Conv1D, Conv2D, Flatten, Reshape, MaxPooling1D, MaxPooling2D, BatchNormalization, TimeDistributed, ReLU, Softmax\n",
    "from tensorflow.keras.optimizers import Adam\n",
    "from keras.regularizers import l2,l1\n",
    "from keras.callbacks import EarlyStopping\n",
    "from keras.layers import PReLU\n",
    "from keras.wrappers.scikit_learn import KerasClassifier\n",
    "from sklearn.model_selection import RandomizedSearchCV\n",
    "from sklearn.metrics import accuracy_score\n",
    "from sklearn.model_selection import GridSearchCV"
   ]
  },
  {
   "cell_type": "markdown",
   "metadata": {},
   "source": [
    "### Diseño modelo arquitectura Red Neuronal"
   ]
  },
  {
   "cell_type": "code",
   "execution_count": 22,
   "metadata": {},
   "outputs": [
    {
     "name": "stderr",
     "output_type": "stream",
     "text": [
      "2023-08-16 18:26:06.652587: I tensorflow/core/platform/cpu_feature_guard.cc:193] This TensorFlow binary is optimized with oneAPI Deep Neural Network Library (oneDNN) to use the following CPU instructions in performance-critical operations:  AVX2 FMA\n",
      "To enable them in other operations, rebuild TensorFlow with the appropriate compiler flags.\n"
     ]
    }
   ],
   "source": [
    "clases = 13 # Número de clases a predecir\n",
    "model = Sequential()\n",
    "model.add(Dense(102,input_dim =102, activation = 'relu'))\n",
    "model.add(Dropout(0))\n",
    "model.add(Dense(50,activation='relu'))\n",
    "model.add(Dropout(0))\n",
    "model.add(Dense(25,activation='relu'))\n",
    "model.add(Dropout(0))\n",
    "model.add(Dense(clases, name='y_pred', activation='softmax'))"
   ]
  },
  {
   "cell_type": "code",
   "execution_count": 23,
   "metadata": {},
   "outputs": [
    {
     "name": "stdout",
     "output_type": "stream",
     "text": [
      "Model: \"sequential\"\n",
      "_________________________________________________________________\n",
      " Layer (type)                Output Shape              Param #   \n",
      "=================================================================\n",
      " dense (Dense)               (None, 102)               10506     \n",
      "                                                                 \n",
      " dropout (Dropout)           (None, 102)               0         \n",
      "                                                                 \n",
      " dense_1 (Dense)             (None, 50)                5150      \n",
      "                                                                 \n",
      " dropout_1 (Dropout)         (None, 50)                0         \n",
      "                                                                 \n",
      " dense_2 (Dense)             (None, 25)                1275      \n",
      "                                                                 \n",
      " dropout_2 (Dropout)         (None, 25)                0         \n",
      "                                                                 \n",
      " y_pred (Dense)              (None, 13)                338       \n",
      "                                                                 \n",
      "=================================================================\n",
      "Total params: 17,269\n",
      "Trainable params: 17,269\n",
      "Non-trainable params: 0\n",
      "_________________________________________________________________\n"
     ]
    }
   ],
   "source": [
    "model.summary()"
   ]
  },
  {
   "cell_type": "code",
   "execution_count": 24,
   "metadata": {},
   "outputs": [],
   "source": [
    "train_params={\n",
    "    'epochs' :100,\n",
    "    'batch_size': 32,\n",
    "    'verbose': 1\n",
    "}"
   ]
  },
  {
   "cell_type": "code",
   "execution_count": 25,
   "metadata": {},
   "outputs": [],
   "source": [
    "model.compile(loss='categorical_crossentropy', optimizer=\"adam\", metrics=['accuracy'])"
   ]
  },
  {
   "cell_type": "markdown",
   "metadata": {},
   "source": [
    "### Entrenamiento del modelo"
   ]
  },
  {
   "cell_type": "code",
   "execution_count": 26,
   "metadata": {},
   "outputs": [
    {
     "name": "stdout",
     "output_type": "stream",
     "text": [
      "Epoch 1/100\n",
      "3773/3773 [==============================] - 5s 1ms/step - loss: 1.0570 - accuracy: 0.5170\n",
      "Epoch 2/100\n",
      "3773/3773 [==============================] - 5s 1ms/step - loss: 0.7735 - accuracy: 0.6296\n",
      "Epoch 3/100\n",
      "3773/3773 [==============================] - 5s 1ms/step - loss: 0.6987 - accuracy: 0.6651\n",
      "Epoch 4/100\n",
      "3773/3773 [==============================] - 5s 1ms/step - loss: 0.6577 - accuracy: 0.6891\n",
      "Epoch 5/100\n",
      "3773/3773 [==============================] - 5s 1ms/step - loss: 0.6298 - accuracy: 0.7043\n",
      "Epoch 6/100\n",
      "3773/3773 [==============================] - 5s 1ms/step - loss: 0.5979 - accuracy: 0.7207\n",
      "Epoch 7/100\n",
      "3773/3773 [==============================] - 5s 1ms/step - loss: 0.5796 - accuracy: 0.7308\n",
      "Epoch 8/100\n",
      "3773/3773 [==============================] - 5s 1ms/step - loss: 0.5614 - accuracy: 0.7403\n",
      "Epoch 9/100\n",
      "3773/3773 [==============================] - 5s 1ms/step - loss: 0.5456 - accuracy: 0.7478\n",
      "Epoch 10/100\n",
      "3773/3773 [==============================] - 5s 1ms/step - loss: 0.5317 - accuracy: 0.7550\n",
      "Epoch 11/100\n",
      "3773/3773 [==============================] - 5s 1ms/step - loss: 0.5194 - accuracy: 0.7617\n",
      "Epoch 12/100\n",
      "3773/3773 [==============================] - 5s 1ms/step - loss: 0.5077 - accuracy: 0.7682\n",
      "Epoch 13/100\n",
      "3773/3773 [==============================] - 5s 1ms/step - loss: 0.4963 - accuracy: 0.7738\n",
      "Epoch 14/100\n",
      "3773/3773 [==============================] - 5s 1ms/step - loss: 0.4906 - accuracy: 0.7768\n",
      "Epoch 15/100\n",
      "3773/3773 [==============================] - 5s 1ms/step - loss: 0.4805 - accuracy: 0.7823\n",
      "Epoch 16/100\n",
      "3773/3773 [==============================] - 5s 1ms/step - loss: 0.4734 - accuracy: 0.7862\n",
      "Epoch 17/100\n",
      "3773/3773 [==============================] - 5s 1ms/step - loss: 0.4681 - accuracy: 0.7891\n",
      "Epoch 18/100\n",
      "3773/3773 [==============================] - 5s 1ms/step - loss: 0.4589 - accuracy: 0.7942\n",
      "Epoch 19/100\n",
      "3773/3773 [==============================] - 5s 1ms/step - loss: 0.4521 - accuracy: 0.7972\n",
      "Epoch 20/100\n",
      "3773/3773 [==============================] - 5s 1ms/step - loss: 0.4476 - accuracy: 0.7982\n",
      "Epoch 21/100\n",
      "3773/3773 [==============================] - 5s 1ms/step - loss: 0.4366 - accuracy: 0.8058\n",
      "Epoch 22/100\n",
      "3773/3773 [==============================] - 5s 1ms/step - loss: 0.4358 - accuracy: 0.8054\n",
      "Epoch 23/100\n",
      "3773/3773 [==============================] - 5s 1ms/step - loss: 0.4293 - accuracy: 0.8084\n",
      "Epoch 24/100\n",
      "3773/3773 [==============================] - 5s 1ms/step - loss: 0.4236 - accuracy: 0.8115\n",
      "Epoch 25/100\n",
      "3773/3773 [==============================] - 5s 1ms/step - loss: 0.4197 - accuracy: 0.8150\n",
      "Epoch 26/100\n",
      "3773/3773 [==============================] - 5s 1ms/step - loss: 0.4170 - accuracy: 0.8164\n",
      "Epoch 27/100\n",
      "3773/3773 [==============================] - 5s 1ms/step - loss: 0.4095 - accuracy: 0.8214\n",
      "Epoch 28/100\n",
      "3773/3773 [==============================] - 5s 1ms/step - loss: 0.4004 - accuracy: 0.8238\n",
      "Epoch 29/100\n",
      "3773/3773 [==============================] - 5s 1ms/step - loss: 0.3985 - accuracy: 0.8252\n",
      "Epoch 30/100\n",
      "3773/3773 [==============================] - 5s 1ms/step - loss: 0.3933 - accuracy: 0.8275\n",
      "Epoch 31/100\n",
      "3773/3773 [==============================] - 5s 1ms/step - loss: 0.3874 - accuracy: 0.8300\n",
      "Epoch 32/100\n",
      "3773/3773 [==============================] - 5s 1ms/step - loss: 0.3851 - accuracy: 0.8318\n",
      "Epoch 33/100\n",
      "3773/3773 [==============================] - 5s 1ms/step - loss: 0.3790 - accuracy: 0.8347\n",
      "Epoch 34/100\n",
      "3773/3773 [==============================] - 5s 1ms/step - loss: 0.3804 - accuracy: 0.8337\n",
      "Epoch 35/100\n",
      "3773/3773 [==============================] - 5s 1ms/step - loss: 0.3734 - accuracy: 0.8374\n",
      "Epoch 36/100\n",
      "3773/3773 [==============================] - 5s 1ms/step - loss: 0.3678 - accuracy: 0.8400\n",
      "Epoch 37/100\n",
      "3773/3773 [==============================] - 5s 1ms/step - loss: 0.3651 - accuracy: 0.8406\n",
      "Epoch 38/100\n",
      "3773/3773 [==============================] - 5s 1ms/step - loss: 0.3629 - accuracy: 0.8427\n",
      "Epoch 39/100\n",
      "3773/3773 [==============================] - 5s 1ms/step - loss: 0.3574 - accuracy: 0.8448\n",
      "Epoch 40/100\n",
      "3773/3773 [==============================] - 5s 1ms/step - loss: 0.3596 - accuracy: 0.8451\n",
      "Epoch 41/100\n",
      "3773/3773 [==============================] - 5s 1ms/step - loss: 0.3489 - accuracy: 0.8494\n",
      "Epoch 42/100\n",
      "3773/3773 [==============================] - 5s 1ms/step - loss: 0.3517 - accuracy: 0.8489\n",
      "Epoch 43/100\n",
      "3773/3773 [==============================] - 5s 1ms/step - loss: 0.3478 - accuracy: 0.8508\n",
      "Epoch 44/100\n",
      "3773/3773 [==============================] - 5s 1ms/step - loss: 0.3454 - accuracy: 0.8512\n",
      "Epoch 45/100\n",
      "3773/3773 [==============================] - 5s 1ms/step - loss: 0.3427 - accuracy: 0.8528\n",
      "Epoch 46/100\n",
      "3773/3773 [==============================] - 5s 1ms/step - loss: 0.3398 - accuracy: 0.8545\n",
      "Epoch 47/100\n",
      "3773/3773 [==============================] - 5s 1ms/step - loss: 0.3417 - accuracy: 0.8534\n",
      "Epoch 48/100\n",
      "3773/3773 [==============================] - 5s 1ms/step - loss: 0.3339 - accuracy: 0.8578\n",
      "Epoch 49/100\n",
      "3773/3773 [==============================] - 5s 1ms/step - loss: 0.3332 - accuracy: 0.8579\n",
      "Epoch 50/100\n",
      "3773/3773 [==============================] - 5s 1ms/step - loss: 0.3306 - accuracy: 0.8593\n",
      "Epoch 51/100\n",
      "3773/3773 [==============================] - 5s 1ms/step - loss: 0.3275 - accuracy: 0.8602\n",
      "Epoch 52/100\n",
      "3773/3773 [==============================] - 5s 1ms/step - loss: 0.3222 - accuracy: 0.8618\n",
      "Epoch 53/100\n",
      "3773/3773 [==============================] - 5s 1ms/step - loss: 0.3232 - accuracy: 0.8617\n",
      "Epoch 54/100\n",
      "3773/3773 [==============================] - 5s 1ms/step - loss: 0.3230 - accuracy: 0.8619\n",
      "Epoch 55/100\n",
      "3773/3773 [==============================] - 5s 1ms/step - loss: 0.3264 - accuracy: 0.8622\n",
      "Epoch 56/100\n",
      "3773/3773 [==============================] - 5s 1ms/step - loss: 0.3158 - accuracy: 0.8659\n",
      "Epoch 57/100\n",
      "3773/3773 [==============================] - 5s 1ms/step - loss: 0.3171 - accuracy: 0.8653\n",
      "Epoch 58/100\n",
      "3773/3773 [==============================] - 5s 1ms/step - loss: 0.3116 - accuracy: 0.8681\n",
      "Epoch 59/100\n",
      "3773/3773 [==============================] - 5s 1ms/step - loss: 0.3095 - accuracy: 0.8691\n",
      "Epoch 60/100\n",
      "3773/3773 [==============================] - 5s 1ms/step - loss: 0.3134 - accuracy: 0.8672\n",
      "Epoch 61/100\n",
      "3773/3773 [==============================] - 5s 1ms/step - loss: 0.3085 - accuracy: 0.8688\n",
      "Epoch 62/100\n",
      "3773/3773 [==============================] - 5s 1ms/step - loss: 0.3048 - accuracy: 0.8708\n",
      "Epoch 63/100\n",
      "3773/3773 [==============================] - 5s 1ms/step - loss: 0.3053 - accuracy: 0.8714\n",
      "Epoch 64/100\n",
      "3773/3773 [==============================] - 5s 1ms/step - loss: 0.3014 - accuracy: 0.8722\n",
      "Epoch 65/100\n",
      "3773/3773 [==============================] - 5s 1ms/step - loss: 0.3005 - accuracy: 0.8735\n",
      "Epoch 66/100\n",
      "3773/3773 [==============================] - 5s 1ms/step - loss: 0.2975 - accuracy: 0.8749\n",
      "Epoch 67/100\n",
      "3773/3773 [==============================] - 5s 1ms/step - loss: 0.3038 - accuracy: 0.8721\n",
      "Epoch 68/100\n",
      "3773/3773 [==============================] - 5s 1ms/step - loss: 0.2978 - accuracy: 0.8739\n",
      "Epoch 69/100\n",
      "3773/3773 [==============================] - 5s 1ms/step - loss: 0.2981 - accuracy: 0.8746\n",
      "Epoch 70/100\n",
      "3773/3773 [==============================] - 5s 1ms/step - loss: 0.2955 - accuracy: 0.8758\n",
      "Epoch 71/100\n",
      "3773/3773 [==============================] - 5s 1ms/step - loss: 0.2979 - accuracy: 0.8769\n",
      "Epoch 72/100\n",
      "3773/3773 [==============================] - 5s 1ms/step - loss: 0.2978 - accuracy: 0.8744\n",
      "Epoch 73/100\n",
      "3773/3773 [==============================] - 5s 1ms/step - loss: 0.2935 - accuracy: 0.8770\n",
      "Epoch 74/100\n",
      "3773/3773 [==============================] - 5s 1ms/step - loss: 0.2886 - accuracy: 0.8789\n",
      "Epoch 75/100\n",
      "3773/3773 [==============================] - 5s 1ms/step - loss: 0.2988 - accuracy: 0.8748\n",
      "Epoch 76/100\n",
      "3773/3773 [==============================] - 5s 1ms/step - loss: 0.2852 - accuracy: 0.8802\n",
      "Epoch 77/100\n",
      "3773/3773 [==============================] - 5s 1ms/step - loss: 0.2865 - accuracy: 0.8804\n",
      "Epoch 78/100\n",
      "3773/3773 [==============================] - 5s 1ms/step - loss: 0.2889 - accuracy: 0.8803\n",
      "Epoch 79/100\n",
      "3773/3773 [==============================] - 5s 1ms/step - loss: 0.2891 - accuracy: 0.8798\n",
      "Epoch 80/100\n",
      "3773/3773 [==============================] - 5s 1ms/step - loss: 0.2927 - accuracy: 0.8794\n",
      "Epoch 81/100\n",
      "3773/3773 [==============================] - 5s 1ms/step - loss: 0.2838 - accuracy: 0.8813\n",
      "Epoch 82/100\n",
      "3773/3773 [==============================] - 5s 1ms/step - loss: 0.2825 - accuracy: 0.8807\n",
      "Epoch 83/100\n",
      "3773/3773 [==============================] - 5s 1ms/step - loss: 0.2811 - accuracy: 0.8833\n",
      "Epoch 84/100\n",
      "3773/3773 [==============================] - 5s 1ms/step - loss: 0.2826 - accuracy: 0.8823\n",
      "Epoch 85/100\n",
      "3773/3773 [==============================] - 5s 1ms/step - loss: 0.2839 - accuracy: 0.8818\n",
      "Epoch 86/100\n",
      "3773/3773 [==============================] - 5s 1ms/step - loss: 0.2746 - accuracy: 0.8846\n",
      "Epoch 87/100\n",
      "3773/3773 [==============================] - 5s 1ms/step - loss: 0.2788 - accuracy: 0.8844\n",
      "Epoch 88/100\n",
      "3773/3773 [==============================] - 5s 1ms/step - loss: 0.2828 - accuracy: 0.8825\n",
      "Epoch 89/100\n",
      "3773/3773 [==============================] - 5s 1ms/step - loss: 0.2750 - accuracy: 0.8866\n",
      "Epoch 90/100\n",
      "3773/3773 [==============================] - 5s 1ms/step - loss: 0.2732 - accuracy: 0.8863\n",
      "Epoch 91/100\n",
      "3773/3773 [==============================] - 5s 1ms/step - loss: 0.2724 - accuracy: 0.8866\n",
      "Epoch 92/100\n",
      "3773/3773 [==============================] - 5s 1ms/step - loss: 0.2726 - accuracy: 0.8871\n",
      "Epoch 93/100\n",
      "3773/3773 [==============================] - 5s 1ms/step - loss: 0.2682 - accuracy: 0.8872\n",
      "Epoch 94/100\n",
      "3773/3773 [==============================] - 5s 1ms/step - loss: 0.2664 - accuracy: 0.8893\n",
      "Epoch 95/100\n",
      "3773/3773 [==============================] - 5s 1ms/step - loss: 0.2791 - accuracy: 0.8844\n",
      "Epoch 96/100\n",
      "3773/3773 [==============================] - 5s 1ms/step - loss: 0.2653 - accuracy: 0.8912\n",
      "Epoch 97/100\n",
      "3773/3773 [==============================] - 5s 1ms/step - loss: 0.2686 - accuracy: 0.8885\n",
      "Epoch 98/100\n",
      "3773/3773 [==============================] - 5s 1ms/step - loss: 0.2620 - accuracy: 0.8913\n",
      "Epoch 99/100\n",
      "3773/3773 [==============================] - 5s 1ms/step - loss: 0.2661 - accuracy: 0.8909\n",
      "Epoch 100/100\n",
      "3773/3773 [==============================] - 5s 1ms/step - loss: 0.2694 - accuracy: 0.8888\n"
     ]
    }
   ],
   "source": [
    "H = model.fit(X_train, y_train, **train_params)"
   ]
  },
  {
   "cell_type": "code",
   "execution_count": 27,
   "metadata": {},
   "outputs": [
    {
     "data": {
      "text/plain": [
       "<matplotlib.legend.Legend at 0x7f7c4e92b490>"
      ]
     },
     "execution_count": 27,
     "metadata": {},
     "output_type": "execute_result"
    },
    {
     "data": {
      "image/png": "[encoded data removed]",
      "text/plain": [
       "<Figure size 432x288 with 1 Axes>"
      ]
     },
     "metadata": {},
     "output_type": "display_data"
    }
   ],
   "source": [
    "plt.style.use(\"ggplot\")\n",
    "plt.figure()\n",
    "plt.plot(np.arange(0, 100), H.history[\"loss\"], label=\"train_loss\")\n",
    "plt.plot(np.arange(0, 100), H.history[\"accuracy\"], label=\"train_acc\")\n",
    "plt.title(\"Training Loss and Accuracy on VIDIMU Dataset\")\n",
    "plt.xlabel(\"Epoch #\")\n",
    "plt.ylabel(\"Loss/Accuracy\")\n",
    "plt.legend(loc=\"lower right\")"
   ]
  },
  {
   "cell_type": "markdown",
   "metadata": {},
   "source": [
    "### Probando el conjunto de datos en el subset de test y evaluando el performance del modelo"
   ]
  },
  {
   "cell_type": "code",
   "execution_count": 29,
   "metadata": {},
   "outputs": [
    {
     "name": "stdout",
     "output_type": "stream",
     "text": [
      "1011/1011 [==============================] - 1s 840us/step\n",
      "[0. 0. 0. 0. 0. 0. 0. 0. 0. 0. 0. 0. 1.]\n",
      "[1.6890548e-17 3.2777394e-13 7.6891998e-10 8.7667340e-06 1.7156407e-13\n",
      " 4.8896220e-14 1.3729708e-11 2.8043917e-20 5.8337311e-15 3.3795998e-02\n",
      " 1.8910393e-16 9.9292790e-20 9.6619529e-01]\n",
      "              precision    recall  f1-score   support\n",
      "\n",
      "           0       0.79      0.71      0.75      3591\n",
      "           1       0.78      0.88      0.83      4495\n",
      "           2       0.89      0.84      0.86      3752\n",
      "           3       0.99      1.00      0.99      2241\n",
      "           4       0.90      0.94      0.92      2532\n",
      "           5       0.87      0.95      0.90      2252\n",
      "           6       0.91      0.91      0.91      2352\n",
      "           7       0.97      0.84      0.90      2338\n",
      "           8       0.95      0.93      0.94      2479\n",
      "           9       0.99      0.97      0.98      1716\n",
      "          10       0.92      0.92      0.92      1667\n",
      "          11       0.92      0.93      0.92      1631\n",
      "          12       0.98      0.98      0.98      1290\n",
      "\n",
      "    accuracy                           0.89     32336\n",
      "   macro avg       0.91      0.91      0.91     32336\n",
      "weighted avg       0.89      0.89      0.89     32336\n",
      "\n"
     ]
    }
   ],
   "source": [
    "from sklearn.metrics import classification_report\n",
    "# Evaluando modelo de predicción\n",
    "predicciones = model.predict(X_test, batch_size=32, verbose=1)\n",
    "print (y_test[0])\n",
    "print (predicciones[0])\n",
    "print (classification_report(y_test.argmax(axis=1), predicciones.argmax(axis=1)))"
   ]
  },
  {
   "cell_type": "markdown",
   "metadata": {},
   "source": [
    "## 5º - Conclusiones"
   ]
  },
  {
   "cell_type": "markdown",
   "metadata": {},
   "source": []
  }
 ],
 "metadata": {
  "kernelspec": {
   "display_name": "Python 3",
   "language": "python",
   "name": "python3"
  },
  "language_info": {
   "codemirror_mode": {
    "name": "ipython",
    "version": 3
   },
   "file_extension": ".py",
   "mimetype": "text/x-python",
   "name": "python",
   "nbconvert_exporter": "python",
   "pygments_lexer": "ipython3",
   "version": "3.8.8"
  }
 },
 "nbformat": 4,
 "nbformat_minor": 0
}
