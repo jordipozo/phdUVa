{
 "cells": [
  {
   "cell_type": "markdown",
   "metadata": {},
   "source": [
    "# <a id='toc1_'></a>[Propuesta de experimento](#toc0_)\n",
    "Creamos un dataset que aglutina toda la información de los ficheros .csv correspondientes a los movimientos de las actividades de todos los sujetos.\n",
    "Para ello se leen los archivos y se genera el dataset, añadiendo la etiqueta que le corresponde a cada grupo de coordenadas de las distintas articulaciones/huesos.\n",
    "A partir de aquí, se crean las particiones correspondientes a los conjuntos de train, test y validation que se usarán para entrenar y evaluar la red neuronal a diseñar\n",
    "para realizar la tarea de clasificación solicitada."
   ]
  },
  {
   "cell_type": "markdown",
   "metadata": {},
   "source": [
    "**Tabla de contenidos**<a id='toc0_'></a>    \n",
    "- [Propuesta de experimento](#toc1_)    \n",
    "  - [1º - Imports de librerias a utilizar](#toc1_1_)    \n",
    "  - [2º - Proceso de carga de datos y EDA básico](#toc1_2_)    \n",
    "  - [3º - Preparación del dataset para la partición de datos](#toc1_3_)    \n",
    "    - [División del DataFrame en TRAIN, TEST Y VALIDATION](#toc1_3_1_)    \n",
    "  - [4º - Construcción, entrenamiento y evaluación del clasificador Red Neuronal](#toc1_4_)    \n",
    "    - [Importamos librerías para la construcción de la Red Neuronal](#toc1_4_1_)    \n",
    "    - [Diseño modelo arquitectura Red Neuronal](#toc1_4_2_)    \n",
    "    - [Entrenamiento del modelo](#toc1_4_3_)    \n",
    "    - [Probando el conjunto de datos en el subset de test y evaluando el performance del modelo](#toc1_4_4_)    \n",
    "  - [5º - Conclusiones](#toc1_5_)    \n",
    "\n",
    "<!-- vscode-jupyter-toc-config\n",
    "\tnumbering=false\n",
    "\tanchor=true\n",
    "\tflat=false\n",
    "\tminLevel=1\n",
    "\tmaxLevel=6\n",
    "\t/vscode-jupyter-toc-config -->\n",
    "<!-- THIS CELL WILL BE REPLACED ON TOC UPDATE. DO NOT WRITE YOUR TEXT IN THIS CELL -->"
   ]
  },
  {
   "cell_type": "markdown",
   "metadata": {},
   "source": []
  },
  {
   "cell_type": "markdown",
   "metadata": {},
   "source": [
    "## <a id='toc1_1_'></a>[1º - Imports de librerias a utilizar](#toc0_)"
   ]
  },
  {
   "cell_type": "code",
   "execution_count": 1,
   "metadata": {
    "collapsed": true,
    "jupyter": {
     "outputs_hidden": true
    }
   },
   "outputs": [
    {
     "name": "stderr",
     "output_type": "stream",
     "text": [
      "2023-08-16 20:00:16.237993: I tensorflow/core/platform/cpu_feature_guard.cc:193] This TensorFlow binary is optimized with oneAPI Deep Neural Network Library (oneDNN) to use the following CPU instructions in performance-critical operations:  AVX2 FMA\n",
      "To enable them in other operations, rebuild TensorFlow with the appropriate compiler flags.\n"
     ]
    }
   ],
   "source": [
    "import csv\n",
    "import pandas as pd\n",
    "import numpy as np\n",
    "import tensorflow as tf"
   ]
  },
  {
   "cell_type": "code",
   "execution_count": 2,
   "metadata": {
    "collapsed": false,
    "jupyter": {
     "outputs_hidden": false
    }
   },
   "outputs": [],
   "source": [
    "import pathlib\n",
    "from pathlib import Path\n",
    "import glob\n",
    "import matplotlib.pyplot as plt\n",
    "import seaborn as sns\n",
    "import os"
   ]
  },
  {
   "cell_type": "code",
   "execution_count": 3,
   "metadata": {},
   "outputs": [],
   "source": [
    "from sklearn.model_selection import train_test_split\n",
    "from tensorflow.keras.utils import to_categorical"
   ]
  },
  {
   "cell_type": "markdown",
   "metadata": {},
   "source": [
    "## <a id='toc1_2_'></a>[2º - Proceso de carga de datos y EDA básico](#toc0_)"
   ]
  },
  {
   "cell_type": "code",
   "execution_count": 4,
   "metadata": {},
   "outputs": [],
   "source": [
    "data_path=\"/Users/jordi/Desktop/FORMACION/CODE/phdUVa/videoandimus\"\n",
    "activities=['A01','A02','A03','A04','A05','A06','A07','A08','A09','A10','A11','A12','A13']\n",
    "subjects=['S40','S41','S42','S44','S46','S47','S48','S49','S50','S51','S52','S53','S54','S55','S56','S57']\n",
    "data =[]"
   ]
  },
  {
   "cell_type": "code",
   "execution_count": 5,
   "metadata": {},
   "outputs": [],
   "source": [
    "for activity in activities:\n",
    "    # for subject in os.listdir(data_path):\n",
    "    for subject in subjects:\n",
    "        if subject.startswith('S'):\n",
    "            for filename in os.listdir(os.path.join(data_path, subject)):\n",
    "                if filename.startswith(subject + '_'+ activity) and (filename.endswith('_T01.csv') or filename.endswith('_T02.csv')):\n",
    "                    filepath = os.path.join(data_path, subject, filename)\n",
    "                    # print(filepath)\n",
    "                    df = pd.read_csv(filepath, header=0)\n",
    "                    df['activity'] = activity\n",
    "                    data.append(df)\n",
    "dataset = pd.concat(data,ignore_index=True)"
   ]
  },
  {
   "cell_type": "code",
   "execution_count": 6,
   "metadata": {},
   "outputs": [
    {
     "name": "stdout",
     "output_type": "stream",
     "text": [
      "['A01' 'A02' 'A03' 'A04' 'A05' 'A06' 'A07' 'A08' 'A09' 'A10' 'A11' 'A12'\n",
      " 'A13']\n"
     ]
    }
   ],
   "source": [
    "print(dataset['activity'].unique())"
   ]
  },
  {
   "cell_type": "code",
   "execution_count": 7,
   "metadata": {},
   "outputs": [
    {
     "name": "stdout",
     "output_type": "stream",
     "text": [
      "<class 'pandas.core.frame.DataFrame'>\n",
      "RangeIndex: 172456 entries, 0 to 172455\n",
      "Columns: 103 entries, pelvis_x to activity\n",
      "dtypes: float64(102), object(1)\n",
      "memory usage: 135.5+ MB\n",
      "None\n"
     ]
    }
   ],
   "source": [
    "print(dataset.info())"
   ]
  },
  {
   "cell_type": "code",
   "execution_count": 8,
   "metadata": {},
   "outputs": [
    {
     "name": "stdout",
     "output_type": "stream",
     "text": [
      "pelvis_x              float64\n",
      "pelvis_y              float64\n",
      "pelvis_z              float64\n",
      "left_hip_x            float64\n",
      "left_hip_y            float64\n",
      "                       ...   \n",
      "left_thumb_tip_z      float64\n",
      " right_thumb_tip_x    float64\n",
      " right_thumb_tip_y    float64\n",
      " right_thumb_tip_z    float64\n",
      "activity               object\n",
      "Length: 103, dtype: object\n"
     ]
    }
   ],
   "source": [
    "print(dataset.dtypes)"
   ]
  },
  {
   "cell_type": "code",
   "execution_count": 9,
   "metadata": {},
   "outputs": [
    {
     "name": "stdout",
     "output_type": "stream",
     "text": [
      "(172456, 103)\n",
      "activity\n",
      "A01    19082\n",
      "A02    24372\n",
      "A03    19936\n",
      "A04    11827\n",
      "A05    13298\n",
      "A06    11358\n",
      "A07    12778\n",
      "A08    12493\n",
      "A09    13637\n",
      "A10     9045\n",
      "A11     8757\n",
      "A12     9073\n",
      "A13     6800\n",
      "dtype: int64\n"
     ]
    }
   ],
   "source": [
    "# Distribución de las muestras por actividad\n",
    "print(dataset.shape)\n",
    "print(dataset.groupby('activity').size())  "
   ]
  },
  {
   "cell_type": "markdown",
   "metadata": {},
   "source": [
    "La distribución de la información existente en el dataset está muy poco balanceada. Existen muchas muestras de varias clases, mientras que de otras la cantidad de muestras llega a ser casi cuatro veces menor. Esto puede ser foco de problemas a la hora de realizar la tarea de clasificación."
   ]
  },
  {
   "cell_type": "code",
   "execution_count": 10,
   "metadata": {},
   "outputs": [
    {
     "name": "stdout",
     "output_type": "stream",
     "text": [
      "Empty DataFrame\n",
      "Columns: []\n",
      "Index: []\n"
     ]
    }
   ],
   "source": [
    "# Búsqueda de valores nulos en el dataset\n",
    "null_cols = dataset.columns[dataset.isnull().any()]\n",
    "dataset[null_cols].isnull().sum()\n",
    "print(dataset[dataset.isnull().any(axis=1)][null_cols].head())"
   ]
  },
  {
   "cell_type": "markdown",
   "metadata": {},
   "source": [
    "## <a id='toc1_3_'></a>[3º - Preparación del dataset para la partición de datos](#toc0_)"
   ]
  },
  {
   "cell_type": "markdown",
   "metadata": {},
   "source": [
    "Generación de la partición X, y"
   ]
  },
  {
   "cell_type": "markdown",
   "metadata": {},
   "source": [
    "Preprocesado de los datos "
   ]
  },
  {
   "cell_type": "code",
   "execution_count": 11,
   "metadata": {},
   "outputs": [],
   "source": [
    "X=dataset.drop(columns=['activity']) # carga los valores de las muestras para todo el dataset\n",
    "y=dataset['activity'] # carga las etiquetas de las muestras para todo el dataset"
   ]
  },
  {
   "cell_type": "code",
   "execution_count": 12,
   "metadata": {},
   "outputs": [
    {
     "name": "stdout",
     "output_type": "stream",
     "text": [
      "(172456, 102)\n",
      "(172456,)\n"
     ]
    }
   ],
   "source": [
    "print(X.shape)\n",
    "print(y.shape)"
   ]
  },
  {
   "cell_type": "markdown",
   "metadata": {},
   "source": [
    "Conversión a numpy array"
   ]
  },
  {
   "cell_type": "code",
   "execution_count": 13,
   "metadata": {},
   "outputs": [],
   "source": [
    "X= np.array(X) # convierte la lista a un array de numpy\n",
    "y= np.array(y) # convierte las etiquetas a un array de numpy"
   ]
  },
  {
   "cell_type": "markdown",
   "metadata": {},
   "source": [
    "Función para recodificación de etiquetas"
   ]
  },
  {
   "cell_type": "code",
   "execution_count": 14,
   "metadata": {},
   "outputs": [],
   "source": [
    "def labelAssign(textLabel):\n",
    "    if textLabel == 'A01':\n",
    "        return 0\n",
    "    elif textLabel == 'A02':\n",
    "        return 1\n",
    "    elif textLabel == 'A03':\n",
    "        return 2\n",
    "    elif textLabel == 'A04':\n",
    "        return 3\n",
    "    elif textLabel == 'A05':\n",
    "        return 4\n",
    "    elif textLabel == 'A06':\n",
    "        return 5\n",
    "    elif textLabel == 'A07':\n",
    "        return 6\n",
    "    elif textLabel == 'A08':\n",
    "        return 7\n",
    "    elif textLabel == 'A09':\n",
    "        return 8\n",
    "    elif textLabel == 'A10':\n",
    "        return 9\n",
    "    elif textLabel == 'A11':\n",
    "        return 10\n",
    "    elif textLabel == 'A12':\n",
    "        return 11\n",
    "    elif textLabel == 'A13':\n",
    "        return 12"
   ]
  },
  {
   "cell_type": "code",
   "execution_count": 15,
   "metadata": {},
   "outputs": [],
   "source": [
    "y_new=[]\n",
    "for i in range(len(y)):\n",
    "    y_new.append(labelAssign(y[i]))\n"
   ]
  },
  {
   "cell_type": "code",
   "execution_count": 16,
   "metadata": {},
   "outputs": [
    {
     "name": "stdout",
     "output_type": "stream",
     "text": [
      "(172456,)\n"
     ]
    }
   ],
   "source": [
    "y_new=np.array(y_new)\n",
    "print(y_new.shape)"
   ]
  },
  {
   "cell_type": "markdown",
   "metadata": {},
   "source": [
    "### <a id='toc1_3_1_'></a>[División del DataFrame en TRAIN, TEST Y VALIDATION](#toc0_)"
   ]
  },
  {
   "cell_type": "code",
   "execution_count": 17,
   "metadata": {},
   "outputs": [],
   "source": [
    "validation = 0.15 / (0.25 + 0.15)\n",
    "X_train, X_test, y_train, y_test = train_test_split(X, y_new, train_size=0.7)\n",
    "X_val, X_test, y_val, y_test = train_test_split(X_test, y_test, train_size=validation)"
   ]
  },
  {
   "cell_type": "code",
   "execution_count": 18,
   "metadata": {},
   "outputs": [],
   "source": [
    "X_train, X_test = X_train/255.0, X_test/255.0 # Normalization\n",
    "y_train = to_categorical(y_train, num_classes=13) # One-hot encoding\n",
    "y_test = to_categorical(y_test, num_classes=13) # One-hot encoding\n",
    "y_val=to_categorical(y_val, num_classes=13) # One-hot encoding"
   ]
  },
  {
   "cell_type": "code",
   "execution_count": 19,
   "metadata": {},
   "outputs": [
    {
     "name": "stdout",
     "output_type": "stream",
     "text": [
      "El conjunto TRAIN tiene  120719  muestras y  102  variables\n",
      "El conjunto TEST tiene  32336  muestras y  102  variables\n",
      "El conjunto VALIDATION tiene  19401  muestras y  102  variables\n"
     ]
    }
   ],
   "source": [
    "print ('El conjunto TRAIN tiene ',X_train.shape[0], ' muestras y ',X_train.shape[1],' variables')\n",
    "print ('El conjunto TEST tiene ',X_test.shape[0],' muestras y ',X_test.shape[1],' variables')\n",
    "print ('El conjunto VALIDATION tiene ',X_val.shape[0],' muestras y ',X_val.shape[1],' variables')"
   ]
  },
  {
   "cell_type": "code",
   "execution_count": 20,
   "metadata": {},
   "outputs": [
    {
     "name": "stdout",
     "output_type": "stream",
     "text": [
      "(120719, 13)\n",
      "(32336, 13)\n",
      "(19401, 13)\n"
     ]
    }
   ],
   "source": [
    "print(y_train.shape)\n",
    "print(y_test.shape)\n",
    "print(y_val.shape)"
   ]
  },
  {
   "cell_type": "markdown",
   "metadata": {},
   "source": [
    "## <a id='toc1_4_'></a>[4º - Construcción, entrenamiento y evaluación del clasificador Red Neuronal](#toc0_)"
   ]
  },
  {
   "cell_type": "markdown",
   "metadata": {},
   "source": [
    "### <a id='toc1_4_1_'></a>[Importamos librerías para la construcción de la Red Neuronal](#toc0_)"
   ]
  },
  {
   "cell_type": "code",
   "execution_count": 21,
   "metadata": {},
   "outputs": [],
   "source": [
    "from tensorflow.keras.models import Sequential\n",
    "from tensorflow.keras.layers import Dense, InputLayer, Dropout, Activation, Conv1D, Conv2D, Flatten, Reshape, MaxPooling1D, MaxPooling2D, BatchNormalization, TimeDistributed, ReLU, Softmax\n",
    "from tensorflow.keras.optimizers import Adam\n",
    "from keras.regularizers import l2,l1\n",
    "from keras.callbacks import EarlyStopping\n",
    "from keras.layers import PReLU\n",
    "from keras.wrappers.scikit_learn import KerasClassifier\n",
    "from sklearn.model_selection import RandomizedSearchCV\n",
    "from sklearn.metrics import accuracy_score\n",
    "from sklearn.model_selection import GridSearchCV"
   ]
  },
  {
   "cell_type": "markdown",
   "metadata": {},
   "source": [
    "### <a id='toc1_4_2_'></a>[Diseño modelo arquitectura Red Neuronal](#toc0_)"
   ]
  },
  {
   "cell_type": "code",
   "execution_count": 22,
   "metadata": {},
   "outputs": [
    {
     "name": "stderr",
     "output_type": "stream",
     "text": [
      "2023-08-16 20:04:58.905437: I tensorflow/core/platform/cpu_feature_guard.cc:193] This TensorFlow binary is optimized with oneAPI Deep Neural Network Library (oneDNN) to use the following CPU instructions in performance-critical operations:  AVX2 FMA\n",
      "To enable them in other operations, rebuild TensorFlow with the appropriate compiler flags.\n"
     ]
    }
   ],
   "source": [
    "clases = 13 # Número de clases a predecir\n",
    "model = Sequential()\n",
    "model.add(Dense(102,input_dim =102, activation = 'relu'))\n",
    "model.add(Dropout(0))\n",
    "model.add(Dense(50,activation='relu'))\n",
    "model.add(Dropout(0))\n",
    "model.add(Dense(25,activation='relu'))\n",
    "model.add(Dropout(0))\n",
    "model.add(Dense(clases, name='y_pred', activation='softmax'))"
   ]
  },
  {
   "cell_type": "code",
   "execution_count": 23,
   "metadata": {},
   "outputs": [
    {
     "name": "stdout",
     "output_type": "stream",
     "text": [
      "Model: \"sequential\"\n",
      "_________________________________________________________________\n",
      " Layer (type)                Output Shape              Param #   \n",
      "=================================================================\n",
      " dense (Dense)               (None, 102)               10506     \n",
      "                                                                 \n",
      " dropout (Dropout)           (None, 102)               0         \n",
      "                                                                 \n",
      " dense_1 (Dense)             (None, 50)                5150      \n",
      "                                                                 \n",
      " dropout_1 (Dropout)         (None, 50)                0         \n",
      "                                                                 \n",
      " dense_2 (Dense)             (None, 25)                1275      \n",
      "                                                                 \n",
      " dropout_2 (Dropout)         (None, 25)                0         \n",
      "                                                                 \n",
      " y_pred (Dense)              (None, 13)                338       \n",
      "                                                                 \n",
      "=================================================================\n",
      "Total params: 17,269\n",
      "Trainable params: 17,269\n",
      "Non-trainable params: 0\n",
      "_________________________________________________________________\n"
     ]
    }
   ],
   "source": [
    "model.summary()"
   ]
  },
  {
   "cell_type": "code",
   "execution_count": 24,
   "metadata": {},
   "outputs": [],
   "source": [
    "train_params={\n",
    "    'epochs' :100,\n",
    "    'batch_size': 32,\n",
    "    'verbose': 1\n",
    "}"
   ]
  },
  {
   "cell_type": "code",
   "execution_count": 25,
   "metadata": {},
   "outputs": [],
   "source": [
    "model.compile(loss='categorical_crossentropy', optimizer=\"adam\", metrics=['accuracy'])"
   ]
  },
  {
   "cell_type": "markdown",
   "metadata": {},
   "source": [
    "### <a id='toc1_4_3_'></a>[Entrenamiento del modelo](#toc0_)"
   ]
  },
  {
   "cell_type": "code",
   "execution_count": 26,
   "metadata": {},
   "outputs": [
    {
     "name": "stdout",
     "output_type": "stream",
     "text": [
      "Epoch 1/100\n",
      "3773/3773 [==============================] - 5s 1ms/step - loss: 1.0192 - accuracy: 0.5390\n",
      "Epoch 2/100\n",
      "3773/3773 [==============================] - 5s 1ms/step - loss: 0.7453 - accuracy: 0.6449\n",
      "Epoch 3/100\n",
      "3773/3773 [==============================] - 5s 1ms/step - loss: 0.6826 - accuracy: 0.6791\n",
      "Epoch 4/100\n",
      "3773/3773 [==============================] - 5s 1ms/step - loss: 0.6385 - accuracy: 0.7027\n",
      "Epoch 5/100\n",
      "3773/3773 [==============================] - 5s 1ms/step - loss: 0.6068 - accuracy: 0.7188\n",
      "Epoch 6/100\n",
      "3773/3773 [==============================] - 5s 1ms/step - loss: 0.5790 - accuracy: 0.7327\n",
      "Epoch 7/100\n",
      "3773/3773 [==============================] - 5s 1ms/step - loss: 0.5614 - accuracy: 0.7407\n",
      "Epoch 8/100\n",
      "3773/3773 [==============================] - 5s 1ms/step - loss: 0.5450 - accuracy: 0.7500\n",
      "Epoch 9/100\n",
      "3773/3773 [==============================] - 5s 1ms/step - loss: 0.5287 - accuracy: 0.7589\n",
      "Epoch 10/100\n",
      "3773/3773 [==============================] - 5s 1ms/step - loss: 0.5148 - accuracy: 0.7654\n",
      "Epoch 11/100\n",
      "3773/3773 [==============================] - 5s 1ms/step - loss: 0.5007 - accuracy: 0.7738\n",
      "Epoch 12/100\n",
      "3773/3773 [==============================] - 5s 1ms/step - loss: 0.4931 - accuracy: 0.7769\n",
      "Epoch 13/100\n",
      "3773/3773 [==============================] - 5s 1ms/step - loss: 0.4807 - accuracy: 0.7835\n",
      "Epoch 14/100\n",
      "3773/3773 [==============================] - 5s 1ms/step - loss: 0.4773 - accuracy: 0.7855\n",
      "Epoch 15/100\n",
      "3773/3773 [==============================] - 5s 1ms/step - loss: 0.4668 - accuracy: 0.7907\n",
      "Epoch 16/100\n",
      "3773/3773 [==============================] - 5s 1ms/step - loss: 0.4648 - accuracy: 0.7922\n",
      "Epoch 17/100\n",
      "3773/3773 [==============================] - 5s 1ms/step - loss: 0.4569 - accuracy: 0.7972\n",
      "Epoch 18/100\n",
      "3773/3773 [==============================] - 5s 1ms/step - loss: 0.4445 - accuracy: 0.8032\n",
      "Epoch 19/100\n",
      "3773/3773 [==============================] - 5s 1ms/step - loss: 0.4380 - accuracy: 0.8070\n",
      "Epoch 20/100\n",
      "3773/3773 [==============================] - 5s 1ms/step - loss: 0.4364 - accuracy: 0.8072\n",
      "Epoch 21/100\n",
      "3773/3773 [==============================] - 5s 1ms/step - loss: 0.4300 - accuracy: 0.8114\n",
      "Epoch 22/100\n",
      "3773/3773 [==============================] - 5s 1ms/step - loss: 0.4182 - accuracy: 0.8158\n",
      "Epoch 23/100\n",
      "3773/3773 [==============================] - 5s 1ms/step - loss: 0.4075 - accuracy: 0.8205\n",
      "Epoch 24/100\n",
      "3773/3773 [==============================] - 5s 1ms/step - loss: 0.4097 - accuracy: 0.8210\n",
      "Epoch 25/100\n",
      "3773/3773 [==============================] - 5s 1ms/step - loss: 0.4002 - accuracy: 0.8255\n",
      "Epoch 26/100\n",
      "3773/3773 [==============================] - 5s 1ms/step - loss: 0.3960 - accuracy: 0.8267\n",
      "Epoch 27/100\n",
      "3773/3773 [==============================] - 5s 1ms/step - loss: 0.3895 - accuracy: 0.8305\n",
      "Epoch 28/100\n",
      "3773/3773 [==============================] - 5s 1ms/step - loss: 0.3894 - accuracy: 0.8319\n",
      "Epoch 29/100\n",
      "3773/3773 [==============================] - 5s 1ms/step - loss: 0.3805 - accuracy: 0.8356\n",
      "Epoch 30/100\n",
      "3773/3773 [==============================] - 5s 1ms/step - loss: 0.3786 - accuracy: 0.8361\n",
      "Epoch 31/100\n",
      "3773/3773 [==============================] - 5s 1ms/step - loss: 0.3763 - accuracy: 0.8387\n",
      "Epoch 32/100\n",
      "3773/3773 [==============================] - 5s 1ms/step - loss: 0.3689 - accuracy: 0.8401\n",
      "Epoch 33/100\n",
      "3773/3773 [==============================] - 5s 1ms/step - loss: 0.3668 - accuracy: 0.8431\n",
      "Epoch 34/100\n",
      "3773/3773 [==============================] - 5s 1ms/step - loss: 0.3616 - accuracy: 0.8443\n",
      "Epoch 35/100\n",
      "3773/3773 [==============================] - 5s 1ms/step - loss: 0.3567 - accuracy: 0.8468\n",
      "Epoch 36/100\n",
      "3773/3773 [==============================] - 5s 1ms/step - loss: 0.3538 - accuracy: 0.8489\n",
      "Epoch 37/100\n",
      "3773/3773 [==============================] - 5s 1ms/step - loss: 0.3518 - accuracy: 0.8493\n",
      "Epoch 38/100\n",
      "3773/3773 [==============================] - 5s 1ms/step - loss: 0.3483 - accuracy: 0.8509\n",
      "Epoch 39/100\n",
      "3773/3773 [==============================] - 5s 1ms/step - loss: 0.3469 - accuracy: 0.8529\n",
      "Epoch 40/100\n",
      "3773/3773 [==============================] - 5s 1ms/step - loss: 0.3434 - accuracy: 0.8538\n",
      "Epoch 41/100\n",
      "3773/3773 [==============================] - 5s 1ms/step - loss: 0.3403 - accuracy: 0.8553\n",
      "Epoch 42/100\n",
      "3773/3773 [==============================] - 5s 1ms/step - loss: 0.3383 - accuracy: 0.8562\n",
      "Epoch 43/100\n",
      "3773/3773 [==============================] - 5s 1ms/step - loss: 0.3338 - accuracy: 0.8583\n",
      "Epoch 44/100\n",
      "3773/3773 [==============================] - 5s 1ms/step - loss: 0.3328 - accuracy: 0.8578\n",
      "Epoch 45/100\n",
      "3773/3773 [==============================] - 5s 1ms/step - loss: 0.3308 - accuracy: 0.8593\n",
      "Epoch 46/100\n",
      "3773/3773 [==============================] - 5s 1ms/step - loss: 0.3296 - accuracy: 0.8607\n",
      "Epoch 47/100\n",
      "3773/3773 [==============================] - 5s 1ms/step - loss: 0.3238 - accuracy: 0.8636\n",
      "Epoch 48/100\n",
      "3773/3773 [==============================] - 5s 1ms/step - loss: 0.3261 - accuracy: 0.8626\n",
      "Epoch 49/100\n",
      "3773/3773 [==============================] - 5s 1ms/step - loss: 0.3219 - accuracy: 0.8633\n",
      "Epoch 50/100\n",
      "3773/3773 [==============================] - 5s 1ms/step - loss: 0.3201 - accuracy: 0.8653\n",
      "Epoch 51/100\n",
      "3773/3773 [==============================] - 5s 1ms/step - loss: 0.3145 - accuracy: 0.8677\n",
      "Epoch 52/100\n",
      "3773/3773 [==============================] - 5s 1ms/step - loss: 0.3135 - accuracy: 0.8690\n",
      "Epoch 53/100\n",
      "3773/3773 [==============================] - 5s 1ms/step - loss: 0.3105 - accuracy: 0.8702\n",
      "Epoch 54/100\n",
      "3773/3773 [==============================] - 5s 1ms/step - loss: 0.3105 - accuracy: 0.8700\n",
      "Epoch 55/100\n",
      "3773/3773 [==============================] - 5s 1ms/step - loss: 0.3082 - accuracy: 0.8711\n",
      "Epoch 56/100\n",
      "3773/3773 [==============================] - 5s 1ms/step - loss: 0.3077 - accuracy: 0.8712\n",
      "Epoch 57/100\n",
      "3773/3773 [==============================] - 5s 1ms/step - loss: 0.3018 - accuracy: 0.8743\n",
      "Epoch 58/100\n",
      "3773/3773 [==============================] - 5s 1ms/step - loss: 0.3061 - accuracy: 0.8715\n",
      "Epoch 59/100\n",
      "3773/3773 [==============================] - 5s 1ms/step - loss: 0.3013 - accuracy: 0.8747\n",
      "Epoch 60/100\n",
      "3773/3773 [==============================] - 5s 1ms/step - loss: 0.2951 - accuracy: 0.8769\n",
      "Epoch 61/100\n",
      "3773/3773 [==============================] - 5s 1ms/step - loss: 0.2968 - accuracy: 0.8765\n",
      "Epoch 62/100\n",
      "3773/3773 [==============================] - 5s 1ms/step - loss: 0.2944 - accuracy: 0.8770\n",
      "Epoch 63/100\n",
      "3773/3773 [==============================] - 5s 1ms/step - loss: 0.2955 - accuracy: 0.8768\n",
      "Epoch 64/100\n",
      "3773/3773 [==============================] - 5s 1ms/step - loss: 0.2939 - accuracy: 0.8770\n",
      "Epoch 65/100\n",
      "3773/3773 [==============================] - 5s 1ms/step - loss: 0.2880 - accuracy: 0.8807\n",
      "Epoch 66/100\n",
      "3773/3773 [==============================] - 5s 1ms/step - loss: 0.2931 - accuracy: 0.8783\n",
      "Epoch 67/100\n",
      "3773/3773 [==============================] - 5s 1ms/step - loss: 0.2879 - accuracy: 0.8806\n",
      "Epoch 68/100\n",
      "3773/3773 [==============================] - 5s 1ms/step - loss: 0.2827 - accuracy: 0.8824\n",
      "Epoch 69/100\n",
      "3773/3773 [==============================] - 5s 1ms/step - loss: 0.2842 - accuracy: 0.8821\n",
      "Epoch 70/100\n",
      "3773/3773 [==============================] - 5s 1ms/step - loss: 0.2897 - accuracy: 0.8799\n",
      "Epoch 71/100\n",
      "3773/3773 [==============================] - 5s 1ms/step - loss: 0.2841 - accuracy: 0.8819\n",
      "Epoch 72/100\n",
      "3773/3773 [==============================] - 5s 1ms/step - loss: 0.2799 - accuracy: 0.8847\n",
      "Epoch 73/100\n",
      "3773/3773 [==============================] - 5s 1ms/step - loss: 0.2764 - accuracy: 0.8860\n",
      "Epoch 74/100\n",
      "3773/3773 [==============================] - 5s 1ms/step - loss: 0.2751 - accuracy: 0.8867\n",
      "Epoch 75/100\n",
      "3773/3773 [==============================] - 5s 1ms/step - loss: 0.2832 - accuracy: 0.8827\n",
      "Epoch 76/100\n",
      "3773/3773 [==============================] - 5s 1ms/step - loss: 0.2766 - accuracy: 0.8864\n",
      "Epoch 77/100\n",
      "3773/3773 [==============================] - 6s 1ms/step - loss: 0.2785 - accuracy: 0.8849\n",
      "Epoch 78/100\n",
      "3773/3773 [==============================] - 6s 1ms/step - loss: 0.2704 - accuracy: 0.8879\n",
      "Epoch 79/100\n",
      "3773/3773 [==============================] - 6s 1ms/step - loss: 0.2751 - accuracy: 0.8864\n",
      "Epoch 80/100\n",
      "3773/3773 [==============================] - 5s 1ms/step - loss: 0.2753 - accuracy: 0.8873\n",
      "Epoch 81/100\n",
      "3773/3773 [==============================] - 5s 1ms/step - loss: 0.2660 - accuracy: 0.8899\n",
      "Epoch 82/100\n",
      "3773/3773 [==============================] - 5s 1ms/step - loss: 0.2698 - accuracy: 0.8899\n",
      "Epoch 83/100\n",
      "3773/3773 [==============================] - 5s 1ms/step - loss: 0.2738 - accuracy: 0.8890\n",
      "Epoch 84/100\n",
      "3773/3773 [==============================] - 5s 1ms/step - loss: 0.2723 - accuracy: 0.8884\n",
      "Epoch 85/100\n",
      "3773/3773 [==============================] - 5s 1ms/step - loss: 0.2655 - accuracy: 0.8905\n",
      "Epoch 86/100\n",
      "3773/3773 [==============================] - 5s 1ms/step - loss: 0.2626 - accuracy: 0.8923\n",
      "Epoch 87/100\n",
      "3773/3773 [==============================] - 5s 1ms/step - loss: 0.2638 - accuracy: 0.8925\n",
      "Epoch 88/100\n",
      "3773/3773 [==============================] - 5s 1ms/step - loss: 0.2623 - accuracy: 0.8932\n",
      "Epoch 89/100\n",
      "3773/3773 [==============================] - 5s 1ms/step - loss: 0.2625 - accuracy: 0.8929\n",
      "Epoch 90/100\n",
      "3773/3773 [==============================] - 5s 1ms/step - loss: 0.2554 - accuracy: 0.8949\n",
      "Epoch 91/100\n",
      "3773/3773 [==============================] - 5s 1ms/step - loss: 0.2525 - accuracy: 0.8969\n",
      "Epoch 92/100\n",
      "3773/3773 [==============================] - 6s 1ms/step - loss: 0.2608 - accuracy: 0.8939\n",
      "Epoch 93/100\n",
      "3773/3773 [==============================] - 6s 2ms/step - loss: 0.2559 - accuracy: 0.8950\n",
      "Epoch 94/100\n",
      "3773/3773 [==============================] - 6s 2ms/step - loss: 0.2513 - accuracy: 0.8971\n",
      "Epoch 95/100\n",
      "3773/3773 [==============================] - 6s 2ms/step - loss: 0.2517 - accuracy: 0.8987\n",
      "Epoch 96/100\n",
      "3773/3773 [==============================] - 6s 2ms/step - loss: 0.2506 - accuracy: 0.8978\n",
      "Epoch 97/100\n",
      "3773/3773 [==============================] - 5s 1ms/step - loss: 0.2535 - accuracy: 0.8981\n",
      "Epoch 98/100\n",
      "3773/3773 [==============================] - 5s 1ms/step - loss: 0.2494 - accuracy: 0.8978\n",
      "Epoch 99/100\n",
      "3773/3773 [==============================] - 5s 1ms/step - loss: 0.2492 - accuracy: 0.8994\n",
      "Epoch 100/100\n",
      "3773/3773 [==============================] - 5s 1ms/step - loss: 0.2528 - accuracy: 0.8976\n"
     ]
    }
   ],
   "source": [
    "H = model.fit(X_train, y_train, **train_params)"
   ]
  },
  {
   "cell_type": "code",
   "execution_count": 27,
   "metadata": {},
   "outputs": [
    {
     "data": {
      "text/plain": [
       "<matplotlib.legend.Legend at 0x7fbf38c0faf0>"
      ]
     },
     "execution_count": 27,
     "metadata": {},
     "output_type": "execute_result"
    },
    {
     "data": {
      "image/png": "[encoded data removed]",
      "text/plain": [
       "<Figure size 432x288 with 1 Axes>"
      ]
     },
     "metadata": {},
     "output_type": "display_data"
    }
   ],
   "source": [
    "plt.style.use(\"ggplot\")\n",
    "plt.figure()\n",
    "plt.plot(np.arange(0, 100), H.history[\"loss\"], label=\"train_loss\")\n",
    "plt.plot(np.arange(0, 100), H.history[\"accuracy\"], label=\"train_acc\")\n",
    "plt.title(\"Training Loss and Accuracy on VIDIMU Dataset\")\n",
    "plt.xlabel(\"Epoch #\")\n",
    "plt.ylabel(\"Loss/Accuracy\")\n",
    "plt.legend(loc=\"lower right\")"
   ]
  },
  {
   "cell_type": "markdown",
   "metadata": {},
   "source": [
    "### <a id='toc1_4_4_'></a>[Probando el conjunto de datos en el subset de test y evaluando el performance del modelo](#toc0_)"
   ]
  },
  {
   "cell_type": "code",
   "execution_count": 28,
   "metadata": {},
   "outputs": [
    {
     "name": "stdout",
     "output_type": "stream",
     "text": [
      "1011/1011 [==============================] - 1s 930us/step\n",
      "[0. 1. 0. 0. 0. 0. 0. 0. 0. 0. 0. 0. 0.]\n",
      "[2.3473261e-02 8.8395804e-01 9.2568725e-02 0.0000000e+00 1.5972048e-33\n",
      " 0.0000000e+00 3.6193761e-33 1.2536413e-33 5.1435100e-23 0.0000000e+00\n",
      " 0.0000000e+00 0.0000000e+00 0.0000000e+00]\n",
      "              precision    recall  f1-score   support\n",
      "\n",
      "           0       0.86      0.65      0.74      3543\n",
      "           1       0.80      0.90      0.85      4561\n",
      "           2       0.85      0.93      0.89      3802\n",
      "           3       1.00      1.00      1.00      2248\n",
      "           4       0.95      0.93      0.94      2458\n",
      "           5       0.97      0.94      0.95      2143\n",
      "           6       0.92      0.97      0.94      2428\n",
      "           7       0.95      0.95      0.95      2366\n",
      "           8       0.96      0.96      0.96      2500\n",
      "           9       0.99      0.98      0.99      1706\n",
      "          10       0.93      0.99      0.96      1614\n",
      "          11       0.99      0.93      0.96      1698\n",
      "          12       0.98      0.99      0.98      1269\n",
      "\n",
      "    accuracy                           0.91     32336\n",
      "   macro avg       0.94      0.93      0.93     32336\n",
      "weighted avg       0.92      0.91      0.91     32336\n",
      "\n"
     ]
    }
   ],
   "source": [
    "from sklearn.metrics import classification_report\n",
    "# Evaluando modelo de predicción\n",
    "predicciones = model.predict(X_test, batch_size=32, verbose=1)\n",
    "print (y_test[0])\n",
    "print (predicciones[0])\n",
    "print (classification_report(y_test.argmax(axis=1), predicciones.argmax(axis=1)))"
   ]
  },
  {
   "cell_type": "markdown",
   "metadata": {},
   "source": [
    "## <a id='toc1_5_'></a>[5º - Conclusiones](#toc0_)"
   ]
  },
  {
   "cell_type": "markdown",
   "metadata": {},
   "source": [
    "Analizando los valores de las métricas obtenidas se observa que:  \n",
    "- ***Precisión***: se obtiene una muy buena media a nivel global y, a nivel individual también se alcanzan, salvo en las tres primeras clases, valores por encima del 90% de aciertos. Esto indica, por tanto, que no se detectan practicamente los falsos positivos. Por tanto, el sistema es altamente preciso al detectar las coordenadas de los distintos puntos de interés.   \n",
    "\n",
    "- ***Recall (Sensibilidad)***: en este apartado, en la clase 0 (A01) se observa un valor ligeramente bajo, 65%, lo que nos indica que en esta actividad el nivel de predicción no es excesivamente bueno. En el resto de clases, y en el valor medio de esta métrica, se supera el 90%, con lo que el número de aciertos verdaderos sobre los que realmente lo son es también satisfactorio. Por tanto, el nivel de sensibilidad del sistema es satisfactorio y, teniendo en cuenta los valores de la métrica anterior, nos indica que este modelo es altamente fiable y preciso.     \n",
    "\n",
    "- ***F1 Score***: el valor volcado por esta métrica, que como sabemos se trata de la media armónica entre las dos métricas anteriores, viene a constatar lo citado hasta este punto.     \n",
    "   \n",
    "En resumen, el modelo de clasificador basado en una red neuronal que se ha desarrollado en el presente experimento es bastante preciso y fiable a la hora de establecer a que actividad pertenece un conjunto de coordenadas correspondiente a una determinada posición del cuerpo de un sujeto, tomadas a través de un grupo de sensores colocados en distintos puntos de interés del citado sujeto.    \n",
    "\n",
    "Estos resultados podrían mejorarse realizando un análisis más detallado y profundo de los distintos valores que pueden tomar los hiperparámetros del modelo, llegando probablemente a un nivel de precisión algo mayor. También sería necesario disponer de un conjunto de datos más equilibrado, es decir, disponer de un número de muestras equivalente para todas las muestras de las distintas clases."
   ]
  }
 ],
 "metadata": {
  "kernelspec": {
   "display_name": "Python 3 (ipykernel)",
   "language": "python",
   "name": "python3"
  },
  "language_info": {
   "codemirror_mode": {
    "name": "ipython",
    "version": 3
   },
   "file_extension": ".py",
   "mimetype": "text/x-python",
   "name": "python",
   "nbconvert_exporter": "python",
   "pygments_lexer": "ipython3",
   "version": "3.8.8"
  }
 },
 "nbformat": 4,
 "nbformat_minor": 4
}
