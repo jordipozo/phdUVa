{
 "cells": [
  {
   "cell_type": "markdown",
   "metadata": {},
   "source": [
    "# Ejercicio de Web Scraping para los ángulos de las articulaciones (archivos .mot)"
   ]
  },
  {
   "cell_type": "markdown",
   "metadata": {},
   "source": [
    "- (Tarea opcional) Construya una pequeña página web para mostrar gráficos sobre los ángulos de las articulaciones incluidos en los archivos .mot. Escriba un breve informe (1-2 páginas)"
   ]
  },
  {
   "cell_type": "code",
   "execution_count": 1,
   "metadata": {},
   "outputs": [],
   "source": [
    "import pandas as pd"
   ]
  },
  {
   "cell_type": "code",
   "execution_count": 2,
   "metadata": {},
   "outputs": [
    {
     "name": "stdout",
     "output_type": "stream",
     "text": [
      "inDegrees=yes\n",
      "\n",
      "name=ik_S47_A01_T01\n",
      "\n",
      "DataType=double\n",
      "\n",
      "version=3\n",
      "\n",
      "OpenSimVersion=4.3-2021-08-27-4bc7ad9\n",
      "\n",
      "endheader\n",
      "\n",
      "['time', 'pelvis_tilt', 'pelvis_list', 'pelvis_rotation', 'pelvis_tx', 'pelvis_ty', 'pelvis_tz', 'hip_flexion_r', 'hip_adduction_r', 'hip_rotation_r', 'knee_angle_r', 'knee_angle_r_beta', 'ankle_angle_r', 'subtalar_angle_r', 'mtp_angle_r', 'hip_flexion_l', 'hip_adduction_l', 'hip_rotation_l', 'knee_angle_l', 'knee_angle_l_beta', 'ankle_angle_l', 'subtalar_angle_l', 'mtp_angle_l', 'lumbar_extension', 'lumbar_bending', 'lumbar_rotation', 'arm_flex_r', 'arm_add_r', 'arm_rot_r', 'elbow_flex_r', 'pro_sup_r', 'wrist_flex_r', 'wrist_dev_r', 'arm_flex_l', 'arm_add_l', 'arm_rot_l', 'elbow_flex_l', 'pro_sup_l', 'wrist_flex_l', 'wrist_dev_l\\n']\n",
      "[['0', '0', '0', '0', '0', '0.9399999999999999', '0', '0', '0', '0', '0', '0', '0', '0', '0', '0', '0', '0', '0', '0', '0', '0', '0', '0', '0', '0', '0', '0', '0', '0', '89.99999999963507', '0', '0', '0', '0', '0', '0', '89.99999999869995', '0', '0'], ['0.02', '-0.4460532801973503', '-1.594526177789378', '-91.65208341846234', '0', '0.9399999999999999', '0', '1.352034318523075', '-5.318532725521909', '-12.23708101075039', '8.89510546474499', '0.1552488776719405', '0', '0', '0', '-1.382974880152928', '-5.206822732446351', '-7.009229770138383', '5.301552987682115', '0.09252955510399528', '0', '0', '0', '0', '0', '0', '2.060617699941536', '-2.060617699941536', '0.3668421099785055', '10.15733838887574', '89.63315791120962', '0', '0', '2.060617699941536', '-2.060617699941536', '0.3668421099785055', '10.15733838887574', '89.63315791034336', '0', '0'], ['0.04', '-0.4244111144974975', '-1.581357075245955', '-91.51917809682109', '0', '0.9399999999999999', '0', '1.344746139723599', '-5.307912091918275', '-12.22688759987078', '8.901031549706646', '0.1553523073662743', '0', '0', '0', '-1.385049813425728', '-5.230534234300105', '-7.007495706070969', '5.304668194220551', '0.09258392571497065', '0', '0', '0', '0', '0', '0', '2.06100359042076', '-2.06100359042076', '0.366915950576199', '10.16018017059931', '89.63308407061633', '0', '0', '2.06100359042076', '-2.06100359042076', '0.366915950576199', '10.16018017059931', '89.63308406975008', '0', '0'], ['0.06', '-0.4613392652941322', '-1.582592048162888', '-91.33791600212994', '0', '0.9399999999999999', '0', '1.311625553912559', '-5.25132280330456', '-12.34338009133009', '9.003722031402456', '0.1571445943823251', '0', '0', '0', '-1.374967565966688', '-5.312493880393475', '-6.922284203390375', '5.389814432699779', '0.09407000792212146', '0', '0', '0', '0', '0', '0', '2.066088420500686', '-2.066088420500686', '0.3679107264834178', '10.20180928841914', '89.63208929476865', '0', '0', '2.066088420500686', '-2.066088420500686', '0.3679107264834178', '10.20180928841914', '89.63208929390252', '0', '0'], ['0.08', '-0.4350432498316491', '-1.568816627194666', '-91.24501663807192', '0', '0.9399999999999999', '0', '1.302736874343151', '-5.240900435486581', '-12.34996088420474', '9.01381446335127', '0.1573207405493654', '0', '0', '0', '-1.377636340714398', '-5.320998444689285', '-6.923480737776799', '5.3972023125808', '0.09419895075078714', '0', '0', '0', '0', '0', '0', '2.066495567928849', '-2.066495567928849', '0.3679886319191572', '10.20480163427011', '89.63201138933753', '0', '0', '2.066495567928849', '-2.066495567928849', '0.3679886319191572', '10.20480163427011', '89.63201138847144', '0', '0'], ['0.1', '-0.4106281653825101', '-1.573501131079155', '-91.03374240985164', '0', '0.9399999999999999', '0', '1.271848235088003', '-5.259912833563811', '-12.48914815586117', '9.101564019084194', '0.1588522592140672', '0', '0', '0', '-1.374041504188912', '-5.322473083511463', '-6.754755396064998', '5.485989408227512', '0.09574857790310538', '0', '0', '0', '0', '0', '0', '2.071448508971427', '-2.071448508971427', '0.3689565654442349', '10.24505565624988', '89.63104345587038', '0', '0', '2.071448508971427', '-2.071448508971427', '0.3689565654442349', '10.24505565624988', '89.63104345500444', '0', '0'], ['0.12', '-0.4050547266278707', '-1.579315274730848', '-90.97512648052812', '0', '0.9399999999999999', '0', '1.285852602752265', '-5.246749311976559', '-12.46155658049298', '9.271604605256101', '0.1618200273047881', '0', '0', '0', '-1.369991765933467', '-5.341360367688956', '-6.683277569643112', '5.554352699365825', '0.0969417424209684', '0', '0', '0', '0', '0', '0', '3.28439151185932', '-3.28439151185932', '0.6010884817950043', '16.36272100395682', '89.39891155331523', '0', '0', '3.28439151185932', '-3.28439151185932', '0.6010884817950043', '16.36272100395682', '89.39891155249288', '0', '0'], ['0.14', '-0.406195537092097', '-1.59753464251275', '-90.90437851642119', '0', '0.9399999999999999', '0', '1.256280099909912', '-5.218874614238185', '-12.45303042169108', '9.373991053026916', '0.16360700792781', '0', '0', '0', '-1.412734660032043', '-5.337703964159092', '-6.56575012183469', '5.554779556571856', '0.0969491924846495', '0', '0', '0', '0', '0', '0', '3.880974429392974', '-3.880974429392974', '0.7107703394009559', '18.46007620729342', '89.28922970215714', '0', '0', '3.880974429392974', '-3.880974429392974', '0.7107703394009559', '18.46007620729342', '89.28922970135534', '0', '0']]\n"
     ]
    },
    {
     "data": {
      "text/html": [
       "<div>\n",
       "<style scoped>\n",
       "    .dataframe tbody tr th:only-of-type {\n",
       "        vertical-align: middle;\n",
       "    }\n",
       "\n",
       "    .dataframe tbody tr th {\n",
       "        vertical-align: top;\n",
       "    }\n",
       "\n",
       "    .dataframe thead th {\n",
       "        text-align: right;\n",
       "    }\n",
       "</style>\n",
       "<table border=\"1\" class=\"dataframe\">\n",
       "  <thead>\n",
       "    <tr style=\"text-align: right;\">\n",
       "      <th></th>\n",
       "      <th>time</th>\n",
       "      <th>pelvis_tilt</th>\n",
       "      <th>pelvis_list</th>\n",
       "      <th>pelvis_rotation</th>\n",
       "      <th>pelvis_tx</th>\n",
       "      <th>pelvis_ty</th>\n",
       "      <th>pelvis_tz</th>\n",
       "      <th>hip_flexion_r</th>\n",
       "      <th>hip_adduction_r</th>\n",
       "      <th>hip_rotation_r</th>\n",
       "      <th>...</th>\n",
       "      <th>pro_sup_r</th>\n",
       "      <th>wrist_flex_r</th>\n",
       "      <th>wrist_dev_r</th>\n",
       "      <th>arm_flex_l</th>\n",
       "      <th>arm_add_l</th>\n",
       "      <th>arm_rot_l</th>\n",
       "      <th>elbow_flex_l</th>\n",
       "      <th>pro_sup_l</th>\n",
       "      <th>wrist_flex_l</th>\n",
       "      <th>wrist_dev_l\\n</th>\n",
       "    </tr>\n",
       "  </thead>\n",
       "  <tbody>\n",
       "    <tr>\n",
       "      <th>0</th>\n",
       "      <td>0</td>\n",
       "      <td>0</td>\n",
       "      <td>0</td>\n",
       "      <td>0</td>\n",
       "      <td>0</td>\n",
       "      <td>0.9399999999999999</td>\n",
       "      <td>0</td>\n",
       "      <td>0</td>\n",
       "      <td>0</td>\n",
       "      <td>0</td>\n",
       "      <td>...</td>\n",
       "      <td>89.99999999963507</td>\n",
       "      <td>0</td>\n",
       "      <td>0</td>\n",
       "      <td>0</td>\n",
       "      <td>0</td>\n",
       "      <td>0</td>\n",
       "      <td>0</td>\n",
       "      <td>89.99999999869995</td>\n",
       "      <td>0</td>\n",
       "      <td>0</td>\n",
       "    </tr>\n",
       "    <tr>\n",
       "      <th>1</th>\n",
       "      <td>0.02</td>\n",
       "      <td>-0.4460532801973503</td>\n",
       "      <td>-1.594526177789378</td>\n",
       "      <td>-91.65208341846234</td>\n",
       "      <td>0</td>\n",
       "      <td>0.9399999999999999</td>\n",
       "      <td>0</td>\n",
       "      <td>1.352034318523075</td>\n",
       "      <td>-5.318532725521909</td>\n",
       "      <td>-12.23708101075039</td>\n",
       "      <td>...</td>\n",
       "      <td>89.63315791120962</td>\n",
       "      <td>0</td>\n",
       "      <td>0</td>\n",
       "      <td>2.060617699941536</td>\n",
       "      <td>-2.060617699941536</td>\n",
       "      <td>0.3668421099785055</td>\n",
       "      <td>10.15733838887574</td>\n",
       "      <td>89.63315791034336</td>\n",
       "      <td>0</td>\n",
       "      <td>0</td>\n",
       "    </tr>\n",
       "    <tr>\n",
       "      <th>2</th>\n",
       "      <td>0.04</td>\n",
       "      <td>-0.4244111144974975</td>\n",
       "      <td>-1.581357075245955</td>\n",
       "      <td>-91.51917809682109</td>\n",
       "      <td>0</td>\n",
       "      <td>0.9399999999999999</td>\n",
       "      <td>0</td>\n",
       "      <td>1.344746139723599</td>\n",
       "      <td>-5.307912091918275</td>\n",
       "      <td>-12.22688759987078</td>\n",
       "      <td>...</td>\n",
       "      <td>89.63308407061633</td>\n",
       "      <td>0</td>\n",
       "      <td>0</td>\n",
       "      <td>2.06100359042076</td>\n",
       "      <td>-2.06100359042076</td>\n",
       "      <td>0.366915950576199</td>\n",
       "      <td>10.16018017059931</td>\n",
       "      <td>89.63308406975008</td>\n",
       "      <td>0</td>\n",
       "      <td>0</td>\n",
       "    </tr>\n",
       "    <tr>\n",
       "      <th>3</th>\n",
       "      <td>0.06</td>\n",
       "      <td>-0.4613392652941322</td>\n",
       "      <td>-1.582592048162888</td>\n",
       "      <td>-91.33791600212994</td>\n",
       "      <td>0</td>\n",
       "      <td>0.9399999999999999</td>\n",
       "      <td>0</td>\n",
       "      <td>1.311625553912559</td>\n",
       "      <td>-5.25132280330456</td>\n",
       "      <td>-12.34338009133009</td>\n",
       "      <td>...</td>\n",
       "      <td>89.63208929476865</td>\n",
       "      <td>0</td>\n",
       "      <td>0</td>\n",
       "      <td>2.066088420500686</td>\n",
       "      <td>-2.066088420500686</td>\n",
       "      <td>0.3679107264834178</td>\n",
       "      <td>10.20180928841914</td>\n",
       "      <td>89.63208929390252</td>\n",
       "      <td>0</td>\n",
       "      <td>0</td>\n",
       "    </tr>\n",
       "    <tr>\n",
       "      <th>4</th>\n",
       "      <td>0.08</td>\n",
       "      <td>-0.4350432498316491</td>\n",
       "      <td>-1.568816627194666</td>\n",
       "      <td>-91.24501663807192</td>\n",
       "      <td>0</td>\n",
       "      <td>0.9399999999999999</td>\n",
       "      <td>0</td>\n",
       "      <td>1.302736874343151</td>\n",
       "      <td>-5.240900435486581</td>\n",
       "      <td>-12.34996088420474</td>\n",
       "      <td>...</td>\n",
       "      <td>89.63201138933753</td>\n",
       "      <td>0</td>\n",
       "      <td>0</td>\n",
       "      <td>2.066495567928849</td>\n",
       "      <td>-2.066495567928849</td>\n",
       "      <td>0.3679886319191572</td>\n",
       "      <td>10.20480163427011</td>\n",
       "      <td>89.63201138847144</td>\n",
       "      <td>0</td>\n",
       "      <td>0</td>\n",
       "    </tr>\n",
       "  </tbody>\n",
       "</table>\n",
       "<p>5 rows × 40 columns</p>\n",
       "</div>"
      ],
      "text/plain": [
       "   time          pelvis_tilt         pelvis_list     pelvis_rotation  \\\n",
       "0     0                    0                   0                   0   \n",
       "1  0.02  -0.4460532801973503  -1.594526177789378  -91.65208341846234   \n",
       "2  0.04  -0.4244111144974975  -1.581357075245955  -91.51917809682109   \n",
       "3  0.06  -0.4613392652941322  -1.582592048162888  -91.33791600212994   \n",
       "4  0.08  -0.4350432498316491  -1.568816627194666  -91.24501663807192   \n",
       "\n",
       "  pelvis_tx           pelvis_ty pelvis_tz      hip_flexion_r  \\\n",
       "0         0  0.9399999999999999         0                  0   \n",
       "1         0  0.9399999999999999         0  1.352034318523075   \n",
       "2         0  0.9399999999999999         0  1.344746139723599   \n",
       "3         0  0.9399999999999999         0  1.311625553912559   \n",
       "4         0  0.9399999999999999         0  1.302736874343151   \n",
       "\n",
       "      hip_adduction_r      hip_rotation_r  ...          pro_sup_r  \\\n",
       "0                   0                   0  ...  89.99999999963507   \n",
       "1  -5.318532725521909  -12.23708101075039  ...  89.63315791120962   \n",
       "2  -5.307912091918275  -12.22688759987078  ...  89.63308407061633   \n",
       "3   -5.25132280330456  -12.34338009133009  ...  89.63208929476865   \n",
       "4  -5.240900435486581  -12.34996088420474  ...  89.63201138933753   \n",
       "\n",
       "  wrist_flex_r wrist_dev_r         arm_flex_l           arm_add_l  \\\n",
       "0            0           0                  0                   0   \n",
       "1            0           0  2.060617699941536  -2.060617699941536   \n",
       "2            0           0   2.06100359042076   -2.06100359042076   \n",
       "3            0           0  2.066088420500686  -2.066088420500686   \n",
       "4            0           0  2.066495567928849  -2.066495567928849   \n",
       "\n",
       "            arm_rot_l       elbow_flex_l          pro_sup_l wrist_flex_l  \\\n",
       "0                   0                  0  89.99999999869995            0   \n",
       "1  0.3668421099785055  10.15733838887574  89.63315791034336            0   \n",
       "2   0.366915950576199  10.16018017059931  89.63308406975008            0   \n",
       "3  0.3679107264834178  10.20180928841914  89.63208929390252            0   \n",
       "4  0.3679886319191572  10.20480163427011  89.63201138847144            0   \n",
       "\n",
       "  wrist_dev_l\\n  \n",
       "0             0  \n",
       "1             0  \n",
       "2             0  \n",
       "3             0  \n",
       "4             0  \n",
       "\n",
       "[5 rows x 40 columns]"
      ]
     },
     "execution_count": 2,
     "metadata": {},
     "output_type": "execute_result"
    }
   ],
   "source": [
    "# Carga de los ficheros *.mot\n",
    "# data_path=\"/Users/jordi/Desktop/FORMACION/CODE/phdUVa/videoandimus\"\n",
    "# activities=['A01','A02','A03','A04','A05','A06','A07','A08','A09','A10','A11','A12','A13']\n",
    "# subjects=['S40','S41','S42','S44','S46','S47','S48','S49','S50','S51','S52','S53','S54','S55','S56','S57']\n",
    "# data =[]\n",
    "file_oi=\"/Users/jordi/Desktop/FORMACION/CODE/phdUVa/videoandimus/S47/ik_S47_A01_T01.mot\"\n",
    "i=0\n",
    "with open (file_oi, \"r\") as myfile:\n",
    "    while i < 6:\n",
    "        line = next(myfile)\n",
    "        print(line)\n",
    "        i += 1\n",
    "    angles_col_names = next(myfile).split(\"\\t\")\n",
    "    angles_values = [line.split('\\t') for line in myfile.read().splitlines()]\n",
    "\n",
    "print(angles_col_names) \n",
    "print(angles_values[0:8])\n",
    "\n",
    "df_angles = pd.DataFrame(angles_values, columns=angles_col_names)\n",
    "df_angles.head()\n"
   ]
  },
  {
   "cell_type": "code",
   "execution_count": null,
   "metadata": {},
   "outputs": [],
   "source": [
    "# BUCLE PARA LA LECTURA DE TODOS LOS FICHEROS --- FALTA MODIFICAR PARA QUE LEA LOS *.MOT\n",
    "# for activity in activities:\n",
    "#     # for subject in os.listdir(data_path):\n",
    "#     for subject in subjects:\n",
    "#         if subject.startswith('S'):\n",
    "#             for filename in os.listdir(os.path.join(data_path, subject)):\n",
    "#                 if filename.startswith(subject + '_'+ activity) and (filename.endswith('_T01.csv') or filename.endswith('_T02.csv')):\n",
    "#                     filepath = os.path.join(data_path, subject, filename)\n",
    "#                     # print(filepath)\n",
    "#                     df = pd.read_csv(filepath, header=0)\n",
    "#                     df['activity'] = activity\n",
    "#                     data.append(df)\n",
    "# dataset = pd.concat(data,ignore_index=True)"
   ]
  },
  {
   "cell_type": "code",
   "execution_count": null,
   "metadata": {},
   "outputs": [],
   "source": [
    "df_angles.dtypes"
   ]
  },
  {
   "cell_type": "code",
   "execution_count": 3,
   "metadata": {},
   "outputs": [],
   "source": [
    "# Convertir los valores de las columnas a tipo original = double\n",
    "from numpy import double\n",
    "\n",
    "df_angles=df_angles.astype('float32')"
   ]
  },
  {
   "cell_type": "code",
   "execution_count": 4,
   "metadata": {},
   "outputs": [
    {
     "data": {
      "text/plain": [
       "time                 float32\n",
       "pelvis_tilt          float32\n",
       "pelvis_list          float32\n",
       "pelvis_rotation      float32\n",
       "pelvis_tx            float32\n",
       "pelvis_ty            float32\n",
       "pelvis_tz            float32\n",
       "hip_flexion_r        float32\n",
       "hip_adduction_r      float32\n",
       "hip_rotation_r       float32\n",
       "knee_angle_r         float32\n",
       "knee_angle_r_beta    float32\n",
       "ankle_angle_r        float32\n",
       "subtalar_angle_r     float32\n",
       "mtp_angle_r          float32\n",
       "hip_flexion_l        float32\n",
       "hip_adduction_l      float32\n",
       "hip_rotation_l       float32\n",
       "knee_angle_l         float32\n",
       "knee_angle_l_beta    float32\n",
       "ankle_angle_l        float32\n",
       "subtalar_angle_l     float32\n",
       "mtp_angle_l          float32\n",
       "lumbar_extension     float32\n",
       "lumbar_bending       float32\n",
       "lumbar_rotation      float32\n",
       "arm_flex_r           float32\n",
       "arm_add_r            float32\n",
       "arm_rot_r            float32\n",
       "elbow_flex_r         float32\n",
       "pro_sup_r            float32\n",
       "wrist_flex_r         float32\n",
       "wrist_dev_r          float32\n",
       "arm_flex_l           float32\n",
       "arm_add_l            float32\n",
       "arm_rot_l            float32\n",
       "elbow_flex_l         float32\n",
       "pro_sup_l            float32\n",
       "wrist_flex_l         float32\n",
       "wrist_dev_l\\n        float32\n",
       "dtype: object"
      ]
     },
     "execution_count": 4,
     "metadata": {},
     "output_type": "execute_result"
    }
   ],
   "source": [
    "df_angles.dtypes"
   ]
  },
  {
   "cell_type": "code",
   "execution_count": null,
   "metadata": {},
   "outputs": [],
   "source": [
    "df_angles"
   ]
  },
  {
   "cell_type": "code",
   "execution_count": 8,
   "metadata": {},
   "outputs": [
    {
     "data": {
      "text/html": [
       "<style>\n",
       "        .bk-notebook-logo {\n",
       "            display: block;\n",
       "            width: 20px;\n",
       "            height: 20px;\n",
       "            background-image: url(data:image/png;base64,iVBORw0KGgoAAAANSUhEUgAAABQAAAAUCAYAAACNiR0NAAAABHNCSVQICAgIfAhkiAAAAAlwSFlzAAALEgAACxIB0t1+/AAAABx0RVh0U29mdHdhcmUAQWRvYmUgRmlyZXdvcmtzIENTNui8sowAAAOkSURBVDiNjZRtaJVlGMd/1/08zzln5zjP1LWcU9N0NkN8m2CYjpgQYQXqSs0I84OLIC0hkEKoPtiH3gmKoiJDU7QpLgoLjLIQCpEsNJ1vqUOdO7ppbuec5+V+rj4ctwzd8IIbbi6u+8f1539dt3A78eXC7QizUF7gyV1fD1Yqg4JWz84yffhm0qkFqBogB9rM8tZdtwVsPUhWhGcFJngGeWrPzHm5oaMmkfEg1usvLFyc8jLRqDOMru7AyC8saQr7GG7f5fvDeH7Ej8CM66nIF+8yngt6HWaKh7k49Soy9nXurCi1o3qUbS3zWfrYeQDTB/Qj6kX6Ybhw4B+bOYoLKCC9H3Nu/leUTZ1JdRWkkn2ldcCamzrcf47KKXdAJllSlxAOkRgyHsGC/zRday5Qld9DyoM4/q/rUoy/CXh3jzOu3bHUVZeU+DEn8FInkPBFlu3+nW3Nw0mk6vCDiWg8CeJaxEwuHS3+z5RgY+YBR6V1Z1nxSOfoaPa4LASWxxdNp+VWTk7+4vzaou8v8PN+xo+KY2xsw6une2frhw05CTYOmQvsEhjhWjn0bmXPjpE1+kplmmkP3suftwTubK9Vq22qKmrBhpY4jvd5afdRA3wGjFAgcnTK2s4hY0/GPNIb0nErGMCRxWOOX64Z8RAC4oCXdklmEvcL8o0BfkNK4lUg9HTl+oPlQxdNo3Mg4Nv175e/1LDGzZen30MEjRUtmXSfiTVu1kK8W4txyV6BMKlbgk3lMwYCiusNy9fVfvvwMxv8Ynl6vxoByANLTWplvuj/nF9m2+PDtt1eiHPBr1oIfhCChQMBw6Aw0UulqTKZdfVvfG7VcfIqLG9bcldL/+pdWTLxLUy8Qq38heUIjh4XlzZxzQm19lLFlr8vdQ97rjZVOLf8nclzckbcD4wxXMidpX30sFd37Fv/GtwwhzhxGVAprjbg0gCAEeIgwCZyTV2Z1REEW8O4py0wsjeloKoMr6iCY6dP92H6Vw/oTyICIthibxjm/DfN9lVz8IqtqKYLUXfoKVMVQVVJOElGjrnnUt9T9wbgp8AyYKaGlqingHZU/uG2NTZSVqwHQTWkx9hxjkpWDaCg6Ckj5qebgBVbT3V3NNXMSiWSDdGV3hrtzla7J+duwPOToIg42ChPQOQjspnSlp1V+Gjdged7+8UN5CRAV7a5EdFNwCjEaBR27b3W890TE7g24NAP/mMDXRWrGoFPQI9ls/MWO2dWFAar/xcOIImbbpA3zgAAAABJRU5ErkJggg==);\n",
       "        }\n",
       "    </style>\n",
       "    <div>\n",
       "        <a href=\"https://bokeh.org\" target=\"_blank\" class=\"bk-notebook-logo\"></a>\n",
       "        <span id=\"f9486415-2ad1-4e49-960a-5ca1b106ca07\">Loading BokehJS ...</span>\n",
       "    </div>\n"
      ]
     },
     "metadata": {},
     "output_type": "display_data"
    },
    {
     "data": {
      "application/javascript": "(function(root) {\n  function now() {\n    return new Date();\n  }\n\n  const force = true;\n\n  if (typeof root._bokeh_onload_callbacks === \"undefined\" || force === true) {\n    root._bokeh_onload_callbacks = [];\n    root._bokeh_is_loading = undefined;\n  }\n\nconst JS_MIME_TYPE = 'application/javascript';\n  const HTML_MIME_TYPE = 'text/html';\n  const EXEC_MIME_TYPE = 'application/vnd.bokehjs_exec.v0+json';\n  const CLASS_NAME = 'output_bokeh rendered_html';\n\n  /**\n   * Render data to the DOM node\n   */\n  function render(props, node) {\n    const script = document.createElement(\"script\");\n    node.appendChild(script);\n  }\n\n  /**\n   * Handle when an output is cleared or removed\n   */\n  function handleClearOutput(event, handle) {\n    const cell = handle.cell;\n\n    const id = cell.output_area._bokeh_element_id;\n    const server_id = cell.output_area._bokeh_server_id;\n    // Clean up Bokeh references\n    if (id != null && id in Bokeh.index) {\n      Bokeh.index[id].model.document.clear();\n      delete Bokeh.index[id];\n    }\n\n    if (server_id !== undefined) {\n      // Clean up Bokeh references\n      const cmd_clean = \"from bokeh.io.state import curstate; print(curstate().uuid_to_server['\" + server_id + \"'].get_sessions()[0].document.roots[0]._id)\";\n      cell.notebook.kernel.execute(cmd_clean, {\n        iopub: {\n          output: function(msg) {\n            const id = msg.content.text.trim();\n            if (id in Bokeh.index) {\n              Bokeh.index[id].model.document.clear();\n              delete Bokeh.index[id];\n            }\n          }\n        }\n      });\n      // Destroy server and session\n      const cmd_destroy = \"import bokeh.io.notebook as ion; ion.destroy_server('\" + server_id + \"')\";\n      cell.notebook.kernel.execute(cmd_destroy);\n    }\n  }\n\n  /**\n   * Handle when a new output is added\n   */\n  function handleAddOutput(event, handle) {\n    const output_area = handle.output_area;\n    const output = handle.output;\n\n    // limit handleAddOutput to display_data with EXEC_MIME_TYPE content only\n    if ((output.output_type != \"display_data\") || (!Object.prototype.hasOwnProperty.call(output.data, EXEC_MIME_TYPE))) {\n      return\n    }\n\n    const toinsert = output_area.element.find(\".\" + CLASS_NAME.split(' ')[0]);\n\n    if (output.metadata[EXEC_MIME_TYPE][\"id\"] !== undefined) {\n      toinsert[toinsert.length - 1].firstChild.textContent = output.data[JS_MIME_TYPE];\n      // store reference to embed id on output_area\n      output_area._bokeh_element_id = output.metadata[EXEC_MIME_TYPE][\"id\"];\n    }\n    if (output.metadata[EXEC_MIME_TYPE][\"server_id\"] !== undefined) {\n      const bk_div = document.createElement(\"div\");\n      bk_div.innerHTML = output.data[HTML_MIME_TYPE];\n      const script_attrs = bk_div.children[0].attributes;\n      for (let i = 0; i < script_attrs.length; i++) {\n        toinsert[toinsert.length - 1].firstChild.setAttribute(script_attrs[i].name, script_attrs[i].value);\n        toinsert[toinsert.length - 1].firstChild.textContent = bk_div.children[0].textContent\n      }\n      // store reference to server id on output_area\n      output_area._bokeh_server_id = output.metadata[EXEC_MIME_TYPE][\"server_id\"];\n    }\n  }\n\n  function register_renderer(events, OutputArea) {\n\n    function append_mime(data, metadata, element) {\n      // create a DOM node to render to\n      const toinsert = this.create_output_subarea(\n        metadata,\n        CLASS_NAME,\n        EXEC_MIME_TYPE\n      );\n      this.keyboard_manager.register_events(toinsert);\n      // Render to node\n      const props = {data: data, metadata: metadata[EXEC_MIME_TYPE]};\n      render(props, toinsert[toinsert.length - 1]);\n      element.append(toinsert);\n      return toinsert\n    }\n\n    /* Handle when an output is cleared or removed */\n    events.on('clear_output.CodeCell', handleClearOutput);\n    events.on('delete.Cell', handleClearOutput);\n\n    /* Handle when a new output is added */\n    events.on('output_added.OutputArea', handleAddOutput);\n\n    /**\n     * Register the mime type and append_mime function with output_area\n     */\n    OutputArea.prototype.register_mime_type(EXEC_MIME_TYPE, append_mime, {\n      /* Is output safe? */\n      safe: true,\n      /* Index of renderer in `output_area.display_order` */\n      index: 0\n    });\n  }\n\n  // register the mime type if in Jupyter Notebook environment and previously unregistered\n  if (root.Jupyter !== undefined) {\n    const events = require('base/js/events');\n    const OutputArea = require('notebook/js/outputarea').OutputArea;\n\n    if (OutputArea.prototype.mime_types().indexOf(EXEC_MIME_TYPE) == -1) {\n      register_renderer(events, OutputArea);\n    }\n  }\n  if (typeof (root._bokeh_timeout) === \"undefined\" || force === true) {\n    root._bokeh_timeout = Date.now() + 5000;\n    root._bokeh_failed_load = false;\n  }\n\n  const NB_LOAD_WARNING = {'data': {'text/html':\n     \"<div style='background-color: #fdd'>\\n\"+\n     \"<p>\\n\"+\n     \"BokehJS does not appear to have successfully loaded. If loading BokehJS from CDN, this \\n\"+\n     \"may be due to a slow or bad network connection. Possible fixes:\\n\"+\n     \"</p>\\n\"+\n     \"<ul>\\n\"+\n     \"<li>re-rerun `output_notebook()` to attempt to load from CDN again, or</li>\\n\"+\n     \"<li>use INLINE resources instead, as so:</li>\\n\"+\n     \"</ul>\\n\"+\n     \"<code>\\n\"+\n     \"from bokeh.resources import INLINE\\n\"+\n     \"output_notebook(resources=INLINE)\\n\"+\n     \"</code>\\n\"+\n     \"</div>\"}};\n\n  function display_loaded() {\n    const el = document.getElementById(\"f9486415-2ad1-4e49-960a-5ca1b106ca07\");\n    if (el != null) {\n      el.textContent = \"BokehJS is loading...\";\n    }\n    if (root.Bokeh !== undefined) {\n      if (el != null) {\n        el.textContent = \"BokehJS \" + root.Bokeh.version + \" successfully loaded.\";\n      }\n    } else if (Date.now() < root._bokeh_timeout) {\n      setTimeout(display_loaded, 100)\n    }\n  }\n\n  function run_callbacks() {\n    try {\n      root._bokeh_onload_callbacks.forEach(function(callback) {\n        if (callback != null)\n          callback();\n      });\n    } finally {\n      delete root._bokeh_onload_callbacks\n    }\n    console.debug(\"Bokeh: all callbacks have finished\");\n  }\n\n  function load_libs(css_urls, js_urls, callback) {\n    if (css_urls == null) css_urls = [];\n    if (js_urls == null) js_urls = [];\n\n    root._bokeh_onload_callbacks.push(callback);\n    if (root._bokeh_is_loading > 0) {\n      console.debug(\"Bokeh: BokehJS is being loaded, scheduling callback at\", now());\n      return null;\n    }\n    if (js_urls == null || js_urls.length === 0) {\n      run_callbacks();\n      return null;\n    }\n    console.debug(\"Bokeh: BokehJS not loaded, scheduling load and callback at\", now());\n    root._bokeh_is_loading = css_urls.length + js_urls.length;\n\n    function on_load() {\n      root._bokeh_is_loading--;\n      if (root._bokeh_is_loading === 0) {\n        console.debug(\"Bokeh: all BokehJS libraries/stylesheets loaded\");\n        run_callbacks()\n      }\n    }\n\n    function on_error(url) {\n      console.error(\"failed to load \" + url);\n    }\n\n    for (let i = 0; i < css_urls.length; i++) {\n      const url = css_urls[i];\n      const element = document.createElement(\"link\");\n      element.onload = on_load;\n      element.onerror = on_error.bind(null, url);\n      element.rel = \"stylesheet\";\n      element.type = \"text/css\";\n      element.href = url;\n      console.debug(\"Bokeh: injecting link tag for BokehJS stylesheet: \", url);\n      document.body.appendChild(element);\n    }\n\n    for (let i = 0; i < js_urls.length; i++) {\n      const url = js_urls[i];\n      const element = document.createElement('script');\n      element.onload = on_load;\n      element.onerror = on_error.bind(null, url);\n      element.async = false;\n      element.src = url;\n      console.debug(\"Bokeh: injecting script tag for BokehJS library: \", url);\n      document.head.appendChild(element);\n    }\n  };\n\n  function inject_raw_css(css) {\n    const element = document.createElement(\"style\");\n    element.appendChild(document.createTextNode(css));\n    document.body.appendChild(element);\n  }\n\n  const js_urls = [\"https://cdn.bokeh.org/bokeh/release/bokeh-3.1.1.min.js\", \"https://cdn.bokeh.org/bokeh/release/bokeh-gl-3.1.1.min.js\", \"https://cdn.bokeh.org/bokeh/release/bokeh-widgets-3.1.1.min.js\", \"https://cdn.bokeh.org/bokeh/release/bokeh-tables-3.1.1.min.js\", \"https://cdn.bokeh.org/bokeh/release/bokeh-mathjax-3.1.1.min.js\"];\n  const css_urls = [];\n\n  const inline_js = [    function(Bokeh) {\n      Bokeh.set_log_level(\"info\");\n    },\nfunction(Bokeh) {\n    }\n  ];\n\n  function run_inline_js() {\n    if (root.Bokeh !== undefined || force === true) {\n          for (let i = 0; i < inline_js.length; i++) {\n      inline_js[i].call(root, root.Bokeh);\n    }\nif (force === true) {\n        display_loaded();\n      }} else if (Date.now() < root._bokeh_timeout) {\n      setTimeout(run_inline_js, 100);\n    } else if (!root._bokeh_failed_load) {\n      console.log(\"Bokeh: BokehJS failed to load within specified timeout.\");\n      root._bokeh_failed_load = true;\n    } else if (force !== true) {\n      const cell = $(document.getElementById(\"f9486415-2ad1-4e49-960a-5ca1b106ca07\")).parents('.cell').data().cell;\n      cell.output_area.append_execute_result(NB_LOAD_WARNING)\n    }\n  }\n\n  if (root._bokeh_is_loading === 0) {\n    console.debug(\"Bokeh: BokehJS loaded, going straight to plotting\");\n    run_inline_js();\n  } else {\n    load_libs(css_urls, js_urls, function() {\n      console.debug(\"Bokeh: BokehJS plotting callback run at\", now());\n      run_inline_js();\n    });\n  }\n}(window));",
      "application/vnd.bokehjs_load.v0+json": ""
     },
     "metadata": {},
     "output_type": "display_data"
    }
   ],
   "source": [
    "import bokeh\n",
    "from bokeh.plotting import figure, output_file, show, output_notebook\n",
    "output_notebook()"
   ]
  },
  {
   "cell_type": "code",
   "execution_count": 9,
   "metadata": {},
   "outputs": [],
   "source": [
    "import numpy as np\n",
    "np.random.seed(42)\n",
    "data = pd.Series(np.random.randn(200), index=list(range(200)))\\\n",
    ".cumsum() \n",
    "x=data.index\n",
    "y=data.values"
   ]
  },
  {
   "cell_type": "code",
   "execution_count": 15,
   "metadata": {},
   "outputs": [
    {
     "data": {
      "text/html": [
       "\n",
       "  <div id=\"ec41ce81-2a67-4bb9-8f83-2c03611a193b\" data-root-id=\"p1314\" style=\"display: contents;\"></div>\n"
      ]
     },
     "metadata": {},
     "output_type": "display_data"
    },
    {
     "data": {
      "application/javascript": "(function(root) {\n  function embed_document(root) {\n  const docs_json = {\"07c7651f-8d1d-457b-a29e-0e78507c2730\":{\"version\":\"3.1.1\",\"title\":\"Bokeh Application\",\"defs\":[],\"roots\":[{\"type\":\"object\",\"name\":\"Figure\",\"id\":\"p1314\",\"attributes\":{\"x_range\":{\"type\":\"object\",\"name\":\"DataRange1d\",\"id\":\"p1315\"},\"y_range\":{\"type\":\"object\",\"name\":\"DataRange1d\",\"id\":\"p1316\"},\"x_scale\":{\"type\":\"object\",\"name\":\"LinearScale\",\"id\":\"p1328\"},\"y_scale\":{\"type\":\"object\",\"name\":\"LinearScale\",\"id\":\"p1330\"},\"title\":{\"type\":\"object\",\"name\":\"Title\",\"id\":\"p1317\",\"attributes\":{\"text\":\"Vidimu\"}},\"renderers\":[{\"type\":\"object\",\"name\":\"GlyphRenderer\",\"id\":\"p1367\",\"attributes\":{\"data_source\":{\"type\":\"object\",\"name\":\"ColumnDataSource\",\"id\":\"p1361\",\"attributes\":{\"selected\":{\"type\":\"object\",\"name\":\"Selection\",\"id\":\"p1363\",\"attributes\":{\"indices\":[],\"line_indices\":[]}},\"selection_policy\":{\"type\":\"object\",\"name\":\"UnionRenderers\",\"id\":\"p1362\"},\"data\":{\"type\":\"map\",\"entries\":[[\"x\",{\"type\":\"ndarray\",\"array\":{\"type\":\"bytes\",\"data\":\"AAAAAAEAAAACAAAAAwAAAAQAAAAFAAAABgAAAAcAAAAIAAAACQAAAAoAAAALAAAADAAAAA0AAAAOAAAADwAAABAAAAARAAAAEgAAABMAAAAUAAAAFQAAABYAAAAXAAAAGAAAABkAAAAaAAAAGwAAABwAAAAdAAAAHgAAAB8AAAAgAAAAIQAAACIAAAAjAAAAJAAAACUAAAAmAAAAJwAAACgAAAApAAAAKgAAACsAAAAsAAAALQAAAC4AAAAvAAAAMAAAADEAAAAyAAAAMwAAADQAAAA1AAAANgAAADcAAAA4AAAAOQAAADoAAAA7AAAAPAAAAD0AAAA+AAAAPwAAAEAAAABBAAAAQgAAAEMAAABEAAAARQAAAEYAAABHAAAASAAAAEkAAABKAAAASwAAAEwAAABNAAAATgAAAE8AAABQAAAAUQAAAFIAAABTAAAAVAAAAFUAAABWAAAAVwAAAFgAAABZAAAAWgAAAFsAAABcAAAAXQAAAF4AAABfAAAAYAAAAGEAAABiAAAAYwAAAGQAAABlAAAAZgAAAGcAAABoAAAAaQAAAGoAAABrAAAAbAAAAG0AAABuAAAAbwAAAHAAAABxAAAAcgAAAHMAAAB0AAAAdQAAAHYAAAB3AAAAeAAAAHkAAAB6AAAAewAAAHwAAAB9AAAAfgAAAH8AAACAAAAAgQAAAIIAAACDAAAAhAAAAIUAAACGAAAAhwAAAIgAAACJAAAAigAAAIsAAACMAAAAjQAAAI4AAACPAAAAkAAAAJEAAACSAAAAkwAAAJQAAACVAAAAlgAAAJcAAACYAAAAmQAAAJoAAACbAAAAnAAAAJ0AAACeAAAAnwAAAKAAAAChAAAAogAAAKMAAACkAAAApQAAAKYAAACnAAAAqAAAAKkAAACqAAAAqwAAAKwAAACtAAAArgAAAK8AAACwAAAAsQAAALIAAACzAAAAtAAAALUAAAC2AAAAtwAAALgAAAC5AAAAugAAALsAAAC8AAAAvQAAAL4AAAC/AAAAwAAAAMEAAADCAAAAwwAAAMQAAADFAAAAxgAAAMcAAAA=\"},\"shape\":[200],\"dtype\":\"int32\",\"order\":\"little\"}],[\"y\",{\"type\":\"ndarray\",\"array\":{\"type\":\"bytes\",\"data\":\"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\"},\"shape\":[200],\"dtype\":\"float64\",\"order\":\"little\"}]]}}},\"view\":{\"type\":\"object\",\"name\":\"CDSView\",\"id\":\"p1368\",\"attributes\":{\"filter\":{\"type\":\"object\",\"name\":\"AllIndices\",\"id\":\"p1369\"}}},\"glyph\":{\"type\":\"object\",\"name\":\"Line\",\"id\":\"p1364\",\"attributes\":{\"x\":{\"type\":\"field\",\"field\":\"x\"},\"y\":{\"type\":\"field\",\"field\":\"y\"},\"line_color\":\"#1f77b4\"}},\"nonselection_glyph\":{\"type\":\"object\",\"name\":\"Line\",\"id\":\"p1365\",\"attributes\":{\"x\":{\"type\":\"field\",\"field\":\"x\"},\"y\":{\"type\":\"field\",\"field\":\"y\"},\"line_color\":\"#1f77b4\",\"line_alpha\":0.1}},\"muted_glyph\":{\"type\":\"object\",\"name\":\"Line\",\"id\":\"p1366\",\"attributes\":{\"x\":{\"type\":\"field\",\"field\":\"x\"},\"y\":{\"type\":\"field\",\"field\":\"y\"},\"line_color\":\"#1f77b4\",\"line_alpha\":0.2}}}}],\"toolbar\":{\"type\":\"object\",\"name\":\"Toolbar\",\"id\":\"p1323\",\"attributes\":{\"tools\":[{\"type\":\"object\",\"name\":\"PanTool\",\"id\":\"p1346\"},{\"type\":\"object\",\"name\":\"WheelZoomTool\",\"id\":\"p1347\"},{\"type\":\"object\",\"name\":\"BoxZoomTool\",\"id\":\"p1348\",\"attributes\":{\"overlay\":{\"type\":\"object\",\"name\":\"BoxAnnotation\",\"id\":\"p1349\",\"attributes\":{\"syncable\":false,\"level\":\"overlay\",\"visible\":false,\"left_units\":\"canvas\",\"right_units\":\"canvas\",\"bottom_units\":\"canvas\",\"top_units\":\"canvas\",\"line_color\":\"black\",\"line_alpha\":1.0,\"line_width\":2,\"line_dash\":[4,4],\"fill_color\":\"lightgrey\",\"fill_alpha\":0.5}}}},{\"type\":\"object\",\"name\":\"SaveTool\",\"id\":\"p1350\"},{\"type\":\"object\",\"name\":\"ResetTool\",\"id\":\"p1351\"},{\"type\":\"object\",\"name\":\"HelpTool\",\"id\":\"p1352\"}]}},\"left\":[{\"type\":\"object\",\"name\":\"LinearAxis\",\"id\":\"p1339\",\"attributes\":{\"ticker\":{\"type\":\"object\",\"name\":\"BasicTicker\",\"id\":\"p1342\",\"attributes\":{\"mantissas\":[1,2,5]}},\"formatter\":{\"type\":\"object\",\"name\":\"BasicTickFormatter\",\"id\":\"p1340\"},\"axis_label\":\"Y\",\"major_label_policy\":{\"type\":\"object\",\"name\":\"AllLabels\",\"id\":\"p1341\"}}}],\"below\":[{\"type\":\"object\",\"name\":\"LinearAxis\",\"id\":\"p1332\",\"attributes\":{\"ticker\":{\"type\":\"object\",\"name\":\"BasicTicker\",\"id\":\"p1335\",\"attributes\":{\"mantissas\":[1,2,5]}},\"formatter\":{\"type\":\"object\",\"name\":\"BasicTickFormatter\",\"id\":\"p1333\"},\"axis_label\":\"X\",\"major_label_policy\":{\"type\":\"object\",\"name\":\"AllLabels\",\"id\":\"p1334\"}}}],\"center\":[{\"type\":\"object\",\"name\":\"Grid\",\"id\":\"p1338\",\"attributes\":{\"axis\":{\"id\":\"p1332\"}}},{\"type\":\"object\",\"name\":\"Grid\",\"id\":\"p1345\",\"attributes\":{\"dimension\":1,\"axis\":{\"id\":\"p1339\"}}}]}}],\"callbacks\":{\"type\":\"map\"}}};\n  const render_items = [{\"docid\":\"07c7651f-8d1d-457b-a29e-0e78507c2730\",\"roots\":{\"p1314\":\"ec41ce81-2a67-4bb9-8f83-2c03611a193b\"},\"root_ids\":[\"p1314\"]}];\n  root.Bokeh.embed.embed_items_notebook(docs_json, render_items);\n  }\n  if (root.Bokeh !== undefined) {\n    embed_document(root);\n  } else {\n    let attempts = 0;\n    const timer = setInterval(function(root) {\n      if (root.Bokeh !== undefined) {\n        clearInterval(timer);\n        embed_document(root);\n      } else {\n        attempts++;\n        if (attempts > 100) {\n          clearInterval(timer);\n          console.log(\"Bokeh: ERROR: Unable to run BokehJS code because BokehJS library is missing\");\n        }\n      }\n    }, 10, root)\n  }\n})(window);",
      "application/vnd.bokehjs_exec.v0+json": ""
     },
     "metadata": {
      "application/vnd.bokehjs_exec.v0+json": {
       "id": "p1314"
      }
     },
     "output_type": "display_data"
    }
   ],
   "source": [
    "p= figure(title=\"Vidimu\", x_axis_label='X', y_axis_label='Y')\n",
    "p.line(x, y)\n",
    "show(p)"
   ]
  },
  {
   "cell_type": "code",
   "execution_count": 2,
   "metadata": {},
   "outputs": [],
   "source": [
    "import pandas as pd\n",
    "import numpy as np\n",
    "import matplotlib.pyplot as plt\n",
    "import seaborn as sns\n",
    "import os\n",
    "import pathlib"
   ]
  },
  {
   "cell_type": "code",
   "execution_count": 5,
   "metadata": {},
   "outputs": [
    {
     "name": "stdout",
     "output_type": "stream",
     "text": [
      "['S56', 'S51', 'S50', 'S57', '.DS_Store', 'S44', 'S42', 'S52', 'S55', 'S54', 'S53', 'S40', 'S47', 'S49', 'S48', 'S46', 'S41']\n",
      "/Users/jordi/Desktop/FORMACION/CODE/phdUVa/videoandimus\n"
     ]
    }
   ],
   "source": [
    "# Preparación de directorios y ficheros\n",
    "directorio_defecto = '/Users/jordi/Desktop/FORMACION/CODE/phdUVa/videoandimus/'\n",
    "sujetos = os.listdir('/Users/jordi/Desktop/FORMACION/CODE/phdUVa/videoandimus/')\n",
    "# sujetoseleccionado = st.sidebar.selectbox('Selecciona el sujeto a analizar', sujetos)\n",
    "# actividades = os.listdir('/Users/jordi/Desktop/FORMACION/CODE/phdUVa/videoandimus/'+sujetoseleccionado+'/')\n",
    "# actividadseleccionada = st.sidebar.selectbox('Selecciona la actividad a analizar', actividades)\n",
    "# fichero= os.path.isfile('/Users/jordi/Desktop/FORMACION/CODE/phdUVa/videoandimus/'+sujetoseleccionado+'/ik_'+sujetoseleccionado+'_'+actividadseleccionada+'_T0*'+'.mot')\n",
    "actividades = []\n",
    "directorio = pathlib.Path(directorio_defecto)\n",
    "# for fichero in directorio.iterdir():\n",
    "#     if fichero.is_file() and (fichero.name.startswith(\"ik\") and fichero.name.endswith(\".mot\")):\n",
    "#         actividades.append(fichero.name)\n",
    "# actividadseleccionada = st.sidebar.selectbox('Selecciona la actividad a analizar', actividades)\n",
    "# fichero= (directorio + '/'+ actividadseleccionada)\n",
    "print(sujetos)\n",
    "print(directorio)"
   ]
  }
 ],
 "metadata": {
  "kernelspec": {
   "display_name": "Python 3",
   "language": "python",
   "name": "python3"
  },
  "language_info": {
   "codemirror_mode": {
    "name": "ipython",
    "version": 3
   },
   "file_extension": ".py",
   "mimetype": "text/x-python",
   "name": "python",
   "nbconvert_exporter": "python",
   "pygments_lexer": "ipython3",
   "version": "3.8.8"
  },
  "orig_nbformat": 4
 },
 "nbformat": 4,
 "nbformat_minor": 2
}
